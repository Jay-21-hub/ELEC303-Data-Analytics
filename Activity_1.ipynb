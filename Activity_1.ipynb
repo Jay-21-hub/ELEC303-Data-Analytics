{
 "cells": [
  {
   "cell_type": "markdown",
   "id": "93834b73-f5b0-433c-aa4d-ccf11e04d80f",
   "metadata": {},
   "source": [
    "<h1> ACTIVITY 1 - PALMER PENGUINS DATA ANALYTICS PROJECT </h1> <hr> "
   ]
  },
  {
   "cell_type": "markdown",
   "id": "5465061c-2169-4277-9fed-923ed22a48d1",
   "metadata": {},
   "source": [
    "<h1>Analyst : Jaynard Diosay</h1>"
   ]
  },
  {
   "cell_type": "code",
   "execution_count": 1,
   "id": "9ef5428c-9bdb-4921-96c4-7a807621ff6a",
   "metadata": {},
   "outputs": [],
   "source": [
    "#libraries"
   ]
  },
  {
   "cell_type": "code",
   "execution_count": 2,
   "id": "bdb3aaa2-e5af-40dc-82e0-2464db8901ed",
   "metadata": {},
   "outputs": [],
   "source": [
    "import numpy as np\n",
    "import pandas as pd\n",
    "import warnings\n",
    "warnings.filterwarnings('ignore')"
   ]
  },
  {
   "cell_type": "code",
   "execution_count": 3,
   "id": "efa0ecb4-efcc-4291-b592-5483f605f0e6",
   "metadata": {},
   "outputs": [],
   "source": [
    "penguin = pd.read_csv('penguins.csv')"
   ]
  },
  {
   "cell_type": "code",
   "execution_count": 4,
   "id": "fe1e8e23-23dd-4b14-9ec6-72f892a82ef6",
   "metadata": {},
   "outputs": [],
   "source": [
    "#penguin = pd.read_csv('dataset\\\\penguins.csv')"
   ]
  },
  {
   "cell_type": "code",
   "execution_count": 5,
   "id": "0b31e5e5-8990-4f10-8baa-0c166eb5cbda",
   "metadata": {},
   "outputs": [
    {
     "data": {
      "text/html": [
       "<div>\n",
       "<style scoped>\n",
       "    .dataframe tbody tr th:only-of-type {\n",
       "        vertical-align: middle;\n",
       "    }\n",
       "\n",
       "    .dataframe tbody tr th {\n",
       "        vertical-align: top;\n",
       "    }\n",
       "\n",
       "    .dataframe thead th {\n",
       "        text-align: right;\n",
       "    }\n",
       "</style>\n",
       "<table border=\"1\" class=\"dataframe\">\n",
       "  <thead>\n",
       "    <tr style=\"text-align: right;\">\n",
       "      <th></th>\n",
       "      <th>species</th>\n",
       "      <th>island</th>\n",
       "      <th>bill_length_mm</th>\n",
       "      <th>bill_depth_mm</th>\n",
       "      <th>flipper_length_mm</th>\n",
       "      <th>body_mass_g</th>\n",
       "      <th>sex</th>\n",
       "      <th>year</th>\n",
       "    </tr>\n",
       "  </thead>\n",
       "  <tbody>\n",
       "    <tr>\n",
       "      <th>0</th>\n",
       "      <td>Adelie</td>\n",
       "      <td>Torgersen</td>\n",
       "      <td>39.1</td>\n",
       "      <td>18.7</td>\n",
       "      <td>181.0</td>\n",
       "      <td>3750.0</td>\n",
       "      <td>male</td>\n",
       "      <td>2007</td>\n",
       "    </tr>\n",
       "    <tr>\n",
       "      <th>1</th>\n",
       "      <td>Adelie</td>\n",
       "      <td>Torgersen</td>\n",
       "      <td>39.5</td>\n",
       "      <td>17.4</td>\n",
       "      <td>186.0</td>\n",
       "      <td>3800.0</td>\n",
       "      <td>female</td>\n",
       "      <td>2007</td>\n",
       "    </tr>\n",
       "    <tr>\n",
       "      <th>2</th>\n",
       "      <td>Adelie</td>\n",
       "      <td>Torgersen</td>\n",
       "      <td>40.3</td>\n",
       "      <td>18.0</td>\n",
       "      <td>195.0</td>\n",
       "      <td>3250.0</td>\n",
       "      <td>female</td>\n",
       "      <td>2007</td>\n",
       "    </tr>\n",
       "    <tr>\n",
       "      <th>3</th>\n",
       "      <td>Adelie</td>\n",
       "      <td>Torgersen</td>\n",
       "      <td>NaN</td>\n",
       "      <td>NaN</td>\n",
       "      <td>NaN</td>\n",
       "      <td>NaN</td>\n",
       "      <td>NaN</td>\n",
       "      <td>2007</td>\n",
       "    </tr>\n",
       "    <tr>\n",
       "      <th>4</th>\n",
       "      <td>Adelie</td>\n",
       "      <td>Torgersen</td>\n",
       "      <td>36.7</td>\n",
       "      <td>19.3</td>\n",
       "      <td>193.0</td>\n",
       "      <td>3450.0</td>\n",
       "      <td>female</td>\n",
       "      <td>2007</td>\n",
       "    </tr>\n",
       "    <tr>\n",
       "      <th>...</th>\n",
       "      <td>...</td>\n",
       "      <td>...</td>\n",
       "      <td>...</td>\n",
       "      <td>...</td>\n",
       "      <td>...</td>\n",
       "      <td>...</td>\n",
       "      <td>...</td>\n",
       "      <td>...</td>\n",
       "    </tr>\n",
       "    <tr>\n",
       "      <th>339</th>\n",
       "      <td>Chinstrap</td>\n",
       "      <td>Dream</td>\n",
       "      <td>55.8</td>\n",
       "      <td>19.8</td>\n",
       "      <td>207.0</td>\n",
       "      <td>4000.0</td>\n",
       "      <td>male</td>\n",
       "      <td>2009</td>\n",
       "    </tr>\n",
       "    <tr>\n",
       "      <th>340</th>\n",
       "      <td>Chinstrap</td>\n",
       "      <td>Dream</td>\n",
       "      <td>43.5</td>\n",
       "      <td>18.1</td>\n",
       "      <td>202.0</td>\n",
       "      <td>3400.0</td>\n",
       "      <td>female</td>\n",
       "      <td>2009</td>\n",
       "    </tr>\n",
       "    <tr>\n",
       "      <th>341</th>\n",
       "      <td>Chinstrap</td>\n",
       "      <td>Dream</td>\n",
       "      <td>49.6</td>\n",
       "      <td>18.2</td>\n",
       "      <td>193.0</td>\n",
       "      <td>3775.0</td>\n",
       "      <td>male</td>\n",
       "      <td>2009</td>\n",
       "    </tr>\n",
       "    <tr>\n",
       "      <th>342</th>\n",
       "      <td>Chinstrap</td>\n",
       "      <td>Dream</td>\n",
       "      <td>50.8</td>\n",
       "      <td>19.0</td>\n",
       "      <td>210.0</td>\n",
       "      <td>4100.0</td>\n",
       "      <td>male</td>\n",
       "      <td>2009</td>\n",
       "    </tr>\n",
       "    <tr>\n",
       "      <th>343</th>\n",
       "      <td>Chinstrap</td>\n",
       "      <td>Dream</td>\n",
       "      <td>50.2</td>\n",
       "      <td>18.7</td>\n",
       "      <td>198.0</td>\n",
       "      <td>3775.0</td>\n",
       "      <td>female</td>\n",
       "      <td>2009</td>\n",
       "    </tr>\n",
       "  </tbody>\n",
       "</table>\n",
       "<p>344 rows × 8 columns</p>\n",
       "</div>"
      ],
      "text/plain": [
       "       species     island  bill_length_mm  bill_depth_mm  flipper_length_mm  \\\n",
       "0       Adelie  Torgersen            39.1           18.7              181.0   \n",
       "1       Adelie  Torgersen            39.5           17.4              186.0   \n",
       "2       Adelie  Torgersen            40.3           18.0              195.0   \n",
       "3       Adelie  Torgersen             NaN            NaN                NaN   \n",
       "4       Adelie  Torgersen            36.7           19.3              193.0   \n",
       "..         ...        ...             ...            ...                ...   \n",
       "339  Chinstrap      Dream            55.8           19.8              207.0   \n",
       "340  Chinstrap      Dream            43.5           18.1              202.0   \n",
       "341  Chinstrap      Dream            49.6           18.2              193.0   \n",
       "342  Chinstrap      Dream            50.8           19.0              210.0   \n",
       "343  Chinstrap      Dream            50.2           18.7              198.0   \n",
       "\n",
       "     body_mass_g     sex  year  \n",
       "0         3750.0    male  2007  \n",
       "1         3800.0  female  2007  \n",
       "2         3250.0  female  2007  \n",
       "3            NaN     NaN  2007  \n",
       "4         3450.0  female  2007  \n",
       "..           ...     ...   ...  \n",
       "339       4000.0    male  2009  \n",
       "340       3400.0  female  2009  \n",
       "341       3775.0    male  2009  \n",
       "342       4100.0    male  2009  \n",
       "343       3775.0  female  2009  \n",
       "\n",
       "[344 rows x 8 columns]"
      ]
     },
     "execution_count": 5,
     "metadata": {},
     "output_type": "execute_result"
    }
   ],
   "source": [
    "penguin"
   ]
  },
  {
   "cell_type": "markdown",
   "id": "e65061ed-c0ef-41b9-ae04-9799d200430d",
   "metadata": {},
   "source": [
    "<hr> <h1>Descriptive Analytics</h1>"
   ]
  },
  {
   "cell_type": "code",
   "execution_count": 6,
   "id": "044b1ea6-7d0b-44e5-8924-807e86909a1b",
   "metadata": {},
   "outputs": [
    {
     "data": {
      "text/html": [
       "<div>\n",
       "<style scoped>\n",
       "    .dataframe tbody tr th:only-of-type {\n",
       "        vertical-align: middle;\n",
       "    }\n",
       "\n",
       "    .dataframe tbody tr th {\n",
       "        vertical-align: top;\n",
       "    }\n",
       "\n",
       "    .dataframe thead th {\n",
       "        text-align: right;\n",
       "    }\n",
       "</style>\n",
       "<table border=\"1\" class=\"dataframe\">\n",
       "  <thead>\n",
       "    <tr style=\"text-align: right;\">\n",
       "      <th></th>\n",
       "      <th>bill_length_mm</th>\n",
       "      <th>bill_depth_mm</th>\n",
       "      <th>flipper_length_mm</th>\n",
       "      <th>body_mass_g</th>\n",
       "      <th>year</th>\n",
       "    </tr>\n",
       "  </thead>\n",
       "  <tbody>\n",
       "    <tr>\n",
       "      <th>count</th>\n",
       "      <td>342.000000</td>\n",
       "      <td>342.000000</td>\n",
       "      <td>342.000000</td>\n",
       "      <td>342.000000</td>\n",
       "      <td>344.000000</td>\n",
       "    </tr>\n",
       "    <tr>\n",
       "      <th>mean</th>\n",
       "      <td>43.921930</td>\n",
       "      <td>17.151170</td>\n",
       "      <td>200.915205</td>\n",
       "      <td>4201.754386</td>\n",
       "      <td>2008.029070</td>\n",
       "    </tr>\n",
       "    <tr>\n",
       "      <th>std</th>\n",
       "      <td>5.459584</td>\n",
       "      <td>1.974793</td>\n",
       "      <td>14.061714</td>\n",
       "      <td>801.954536</td>\n",
       "      <td>0.818356</td>\n",
       "    </tr>\n",
       "    <tr>\n",
       "      <th>min</th>\n",
       "      <td>32.100000</td>\n",
       "      <td>13.100000</td>\n",
       "      <td>172.000000</td>\n",
       "      <td>2700.000000</td>\n",
       "      <td>2007.000000</td>\n",
       "    </tr>\n",
       "    <tr>\n",
       "      <th>25%</th>\n",
       "      <td>39.225000</td>\n",
       "      <td>15.600000</td>\n",
       "      <td>190.000000</td>\n",
       "      <td>3550.000000</td>\n",
       "      <td>2007.000000</td>\n",
       "    </tr>\n",
       "    <tr>\n",
       "      <th>50%</th>\n",
       "      <td>44.450000</td>\n",
       "      <td>17.300000</td>\n",
       "      <td>197.000000</td>\n",
       "      <td>4050.000000</td>\n",
       "      <td>2008.000000</td>\n",
       "    </tr>\n",
       "    <tr>\n",
       "      <th>75%</th>\n",
       "      <td>48.500000</td>\n",
       "      <td>18.700000</td>\n",
       "      <td>213.000000</td>\n",
       "      <td>4750.000000</td>\n",
       "      <td>2009.000000</td>\n",
       "    </tr>\n",
       "    <tr>\n",
       "      <th>max</th>\n",
       "      <td>59.600000</td>\n",
       "      <td>21.500000</td>\n",
       "      <td>231.000000</td>\n",
       "      <td>6300.000000</td>\n",
       "      <td>2009.000000</td>\n",
       "    </tr>\n",
       "  </tbody>\n",
       "</table>\n",
       "</div>"
      ],
      "text/plain": [
       "       bill_length_mm  bill_depth_mm  flipper_length_mm  body_mass_g  \\\n",
       "count      342.000000     342.000000         342.000000   342.000000   \n",
       "mean        43.921930      17.151170         200.915205  4201.754386   \n",
       "std          5.459584       1.974793          14.061714   801.954536   \n",
       "min         32.100000      13.100000         172.000000  2700.000000   \n",
       "25%         39.225000      15.600000         190.000000  3550.000000   \n",
       "50%         44.450000      17.300000         197.000000  4050.000000   \n",
       "75%         48.500000      18.700000         213.000000  4750.000000   \n",
       "max         59.600000      21.500000         231.000000  6300.000000   \n",
       "\n",
       "              year  \n",
       "count   344.000000  \n",
       "mean   2008.029070  \n",
       "std       0.818356  \n",
       "min    2007.000000  \n",
       "25%    2007.000000  \n",
       "50%    2008.000000  \n",
       "75%    2009.000000  \n",
       "max    2009.000000  "
      ]
     },
     "execution_count": 6,
     "metadata": {},
     "output_type": "execute_result"
    }
   ],
   "source": [
    "penguin.describe()"
   ]
  },
  {
   "cell_type": "code",
   "execution_count": 7,
   "id": "760f0ace-04f8-4eb0-bdda-44fedbd85e77",
   "metadata": {},
   "outputs": [
    {
     "data": {
      "text/html": [
       "<div>\n",
       "<style scoped>\n",
       "    .dataframe tbody tr th:only-of-type {\n",
       "        vertical-align: middle;\n",
       "    }\n",
       "\n",
       "    .dataframe tbody tr th {\n",
       "        vertical-align: top;\n",
       "    }\n",
       "\n",
       "    .dataframe thead th {\n",
       "        text-align: right;\n",
       "    }\n",
       "</style>\n",
       "<table border=\"1\" class=\"dataframe\">\n",
       "  <thead>\n",
       "    <tr style=\"text-align: right;\">\n",
       "      <th></th>\n",
       "      <th>count</th>\n",
       "      <th>mean</th>\n",
       "      <th>std</th>\n",
       "      <th>min</th>\n",
       "      <th>25%</th>\n",
       "      <th>50%</th>\n",
       "      <th>75%</th>\n",
       "      <th>max</th>\n",
       "    </tr>\n",
       "  </thead>\n",
       "  <tbody>\n",
       "    <tr>\n",
       "      <th>bill_length_mm</th>\n",
       "      <td>342.0</td>\n",
       "      <td>43.921930</td>\n",
       "      <td>5.459584</td>\n",
       "      <td>32.1</td>\n",
       "      <td>39.225</td>\n",
       "      <td>44.45</td>\n",
       "      <td>48.5</td>\n",
       "      <td>59.6</td>\n",
       "    </tr>\n",
       "    <tr>\n",
       "      <th>bill_depth_mm</th>\n",
       "      <td>342.0</td>\n",
       "      <td>17.151170</td>\n",
       "      <td>1.974793</td>\n",
       "      <td>13.1</td>\n",
       "      <td>15.600</td>\n",
       "      <td>17.30</td>\n",
       "      <td>18.7</td>\n",
       "      <td>21.5</td>\n",
       "    </tr>\n",
       "    <tr>\n",
       "      <th>flipper_length_mm</th>\n",
       "      <td>342.0</td>\n",
       "      <td>200.915205</td>\n",
       "      <td>14.061714</td>\n",
       "      <td>172.0</td>\n",
       "      <td>190.000</td>\n",
       "      <td>197.00</td>\n",
       "      <td>213.0</td>\n",
       "      <td>231.0</td>\n",
       "    </tr>\n",
       "    <tr>\n",
       "      <th>body_mass_g</th>\n",
       "      <td>342.0</td>\n",
       "      <td>4201.754386</td>\n",
       "      <td>801.954536</td>\n",
       "      <td>2700.0</td>\n",
       "      <td>3550.000</td>\n",
       "      <td>4050.00</td>\n",
       "      <td>4750.0</td>\n",
       "      <td>6300.0</td>\n",
       "    </tr>\n",
       "    <tr>\n",
       "      <th>year</th>\n",
       "      <td>344.0</td>\n",
       "      <td>2008.029070</td>\n",
       "      <td>0.818356</td>\n",
       "      <td>2007.0</td>\n",
       "      <td>2007.000</td>\n",
       "      <td>2008.00</td>\n",
       "      <td>2009.0</td>\n",
       "      <td>2009.0</td>\n",
       "    </tr>\n",
       "  </tbody>\n",
       "</table>\n",
       "</div>"
      ],
      "text/plain": [
       "                   count         mean         std     min       25%      50%  \\\n",
       "bill_length_mm     342.0    43.921930    5.459584    32.1    39.225    44.45   \n",
       "bill_depth_mm      342.0    17.151170    1.974793    13.1    15.600    17.30   \n",
       "flipper_length_mm  342.0   200.915205   14.061714   172.0   190.000   197.00   \n",
       "body_mass_g        342.0  4201.754386  801.954536  2700.0  3550.000  4050.00   \n",
       "year               344.0  2008.029070    0.818356  2007.0  2007.000  2008.00   \n",
       "\n",
       "                      75%     max  \n",
       "bill_length_mm       48.5    59.6  \n",
       "bill_depth_mm        18.7    21.5  \n",
       "flipper_length_mm   213.0   231.0  \n",
       "body_mass_g        4750.0  6300.0  \n",
       "year               2009.0  2009.0  "
      ]
     },
     "execution_count": 7,
     "metadata": {},
     "output_type": "execute_result"
    }
   ],
   "source": [
    "penguin.describe().T"
   ]
  },
  {
   "cell_type": "markdown",
   "id": "c1f587bd-ca1e-40ce-8ad2-9a7b9f6f1cdb",
   "metadata": {},
   "source": [
    "<hr> <h1>Filtering a Column / Data </h1>"
   ]
  },
  {
   "cell_type": "code",
   "execution_count": 31,
   "id": "de73e426-f22d-4dbd-8079-6aa185c8e254",
   "metadata": {},
   "outputs": [
    {
     "data": {
      "text/plain": [
       "0         Adelie\n",
       "1         Adelie\n",
       "2         Adelie\n",
       "3         Adelie\n",
       "4         Adelie\n",
       "         ...    \n",
       "339    Chinstrap\n",
       "340    Chinstrap\n",
       "341    Chinstrap\n",
       "342    Chinstrap\n",
       "343    Chinstrap\n",
       "Name: species, Length: 344, dtype: category\n",
       "Categories (3, object): ['Adelie', 'Chinstrap', 'Gentoo']"
      ]
     },
     "execution_count": 31,
     "metadata": {},
     "output_type": "execute_result"
    }
   ],
   "source": [
    "penguin['species']"
   ]
  },
  {
   "cell_type": "code",
   "execution_count": 8,
   "id": "e7df70c6-4a2e-47b5-8faf-3ce66f555d08",
   "metadata": {},
   "outputs": [
    {
     "data": {
      "text/plain": [
       "0       True\n",
       "1       True\n",
       "2       True\n",
       "3       True\n",
       "4       True\n",
       "       ...  \n",
       "339    False\n",
       "340    False\n",
       "341    False\n",
       "342    False\n",
       "343    False\n",
       "Name: species, Length: 344, dtype: bool"
      ]
     },
     "execution_count": 8,
     "metadata": {},
     "output_type": "execute_result"
    }
   ],
   "source": [
    "penguin ['species'] == 'Adelie'"
   ]
  },
  {
   "cell_type": "code",
   "execution_count": 9,
   "id": "e05df9ff-e508-484d-93ab-700155c4f235",
   "metadata": {},
   "outputs": [],
   "source": [
    "adelie_df = penguin[penguin['species'] == \"Adelie\"]"
   ]
  },
  {
   "cell_type": "code",
   "execution_count": 10,
   "id": "d79836ea-6a41-4a15-a07c-44c3d60e8215",
   "metadata": {},
   "outputs": [
    {
     "data": {
      "text/plain": [
       "np.float64(3700.662251655629)"
      ]
     },
     "execution_count": 10,
     "metadata": {},
     "output_type": "execute_result"
    }
   ],
   "source": [
    "adelie_df['body_mass_g'].mean()"
   ]
  },
  {
   "cell_type": "code",
   "execution_count": 11,
   "id": "af89513f-3637-4c74-94fd-6e4250543dbc",
   "metadata": {},
   "outputs": [
    {
     "data": {
      "text/html": [
       "<div>\n",
       "<style scoped>\n",
       "    .dataframe tbody tr th:only-of-type {\n",
       "        vertical-align: middle;\n",
       "    }\n",
       "\n",
       "    .dataframe tbody tr th {\n",
       "        vertical-align: top;\n",
       "    }\n",
       "\n",
       "    .dataframe thead th {\n",
       "        text-align: right;\n",
       "    }\n",
       "</style>\n",
       "<table border=\"1\" class=\"dataframe\">\n",
       "  <thead>\n",
       "    <tr style=\"text-align: right;\">\n",
       "      <th></th>\n",
       "      <th>species</th>\n",
       "      <th>island</th>\n",
       "      <th>bill_length_mm</th>\n",
       "      <th>bill_depth_mm</th>\n",
       "      <th>flipper_length_mm</th>\n",
       "      <th>body_mass_g</th>\n",
       "      <th>sex</th>\n",
       "      <th>year</th>\n",
       "    </tr>\n",
       "  </thead>\n",
       "  <tbody>\n",
       "    <tr>\n",
       "      <th>30</th>\n",
       "      <td>Adelie</td>\n",
       "      <td>Dream</td>\n",
       "      <td>39.5</td>\n",
       "      <td>16.7</td>\n",
       "      <td>178.0</td>\n",
       "      <td>3250.0</td>\n",
       "      <td>female</td>\n",
       "      <td>2007</td>\n",
       "    </tr>\n",
       "    <tr>\n",
       "      <th>31</th>\n",
       "      <td>Adelie</td>\n",
       "      <td>Dream</td>\n",
       "      <td>37.2</td>\n",
       "      <td>18.1</td>\n",
       "      <td>178.0</td>\n",
       "      <td>3900.0</td>\n",
       "      <td>male</td>\n",
       "      <td>2007</td>\n",
       "    </tr>\n",
       "    <tr>\n",
       "      <th>32</th>\n",
       "      <td>Adelie</td>\n",
       "      <td>Dream</td>\n",
       "      <td>39.5</td>\n",
       "      <td>17.8</td>\n",
       "      <td>188.0</td>\n",
       "      <td>3300.0</td>\n",
       "      <td>female</td>\n",
       "      <td>2007</td>\n",
       "    </tr>\n",
       "    <tr>\n",
       "      <th>33</th>\n",
       "      <td>Adelie</td>\n",
       "      <td>Dream</td>\n",
       "      <td>40.9</td>\n",
       "      <td>18.9</td>\n",
       "      <td>184.0</td>\n",
       "      <td>3900.0</td>\n",
       "      <td>male</td>\n",
       "      <td>2007</td>\n",
       "    </tr>\n",
       "    <tr>\n",
       "      <th>34</th>\n",
       "      <td>Adelie</td>\n",
       "      <td>Dream</td>\n",
       "      <td>36.4</td>\n",
       "      <td>17.0</td>\n",
       "      <td>195.0</td>\n",
       "      <td>3325.0</td>\n",
       "      <td>female</td>\n",
       "      <td>2007</td>\n",
       "    </tr>\n",
       "    <tr>\n",
       "      <th>35</th>\n",
       "      <td>Adelie</td>\n",
       "      <td>Dream</td>\n",
       "      <td>39.2</td>\n",
       "      <td>21.1</td>\n",
       "      <td>196.0</td>\n",
       "      <td>4150.0</td>\n",
       "      <td>male</td>\n",
       "      <td>2007</td>\n",
       "    </tr>\n",
       "    <tr>\n",
       "      <th>36</th>\n",
       "      <td>Adelie</td>\n",
       "      <td>Dream</td>\n",
       "      <td>38.8</td>\n",
       "      <td>20.0</td>\n",
       "      <td>190.0</td>\n",
       "      <td>3950.0</td>\n",
       "      <td>male</td>\n",
       "      <td>2007</td>\n",
       "    </tr>\n",
       "    <tr>\n",
       "      <th>37</th>\n",
       "      <td>Adelie</td>\n",
       "      <td>Dream</td>\n",
       "      <td>42.2</td>\n",
       "      <td>18.5</td>\n",
       "      <td>180.0</td>\n",
       "      <td>3550.0</td>\n",
       "      <td>female</td>\n",
       "      <td>2007</td>\n",
       "    </tr>\n",
       "    <tr>\n",
       "      <th>38</th>\n",
       "      <td>Adelie</td>\n",
       "      <td>Dream</td>\n",
       "      <td>37.6</td>\n",
       "      <td>19.3</td>\n",
       "      <td>181.0</td>\n",
       "      <td>3300.0</td>\n",
       "      <td>female</td>\n",
       "      <td>2007</td>\n",
       "    </tr>\n",
       "    <tr>\n",
       "      <th>39</th>\n",
       "      <td>Adelie</td>\n",
       "      <td>Dream</td>\n",
       "      <td>39.8</td>\n",
       "      <td>19.1</td>\n",
       "      <td>184.0</td>\n",
       "      <td>4650.0</td>\n",
       "      <td>male</td>\n",
       "      <td>2007</td>\n",
       "    </tr>\n",
       "    <tr>\n",
       "      <th>40</th>\n",
       "      <td>Adelie</td>\n",
       "      <td>Dream</td>\n",
       "      <td>36.5</td>\n",
       "      <td>18.0</td>\n",
       "      <td>182.0</td>\n",
       "      <td>3150.0</td>\n",
       "      <td>female</td>\n",
       "      <td>2007</td>\n",
       "    </tr>\n",
       "    <tr>\n",
       "      <th>41</th>\n",
       "      <td>Adelie</td>\n",
       "      <td>Dream</td>\n",
       "      <td>40.8</td>\n",
       "      <td>18.4</td>\n",
       "      <td>195.0</td>\n",
       "      <td>3900.0</td>\n",
       "      <td>male</td>\n",
       "      <td>2007</td>\n",
       "    </tr>\n",
       "    <tr>\n",
       "      <th>42</th>\n",
       "      <td>Adelie</td>\n",
       "      <td>Dream</td>\n",
       "      <td>36.0</td>\n",
       "      <td>18.5</td>\n",
       "      <td>186.0</td>\n",
       "      <td>3100.0</td>\n",
       "      <td>female</td>\n",
       "      <td>2007</td>\n",
       "    </tr>\n",
       "    <tr>\n",
       "      <th>43</th>\n",
       "      <td>Adelie</td>\n",
       "      <td>Dream</td>\n",
       "      <td>44.1</td>\n",
       "      <td>19.7</td>\n",
       "      <td>196.0</td>\n",
       "      <td>4400.0</td>\n",
       "      <td>male</td>\n",
       "      <td>2007</td>\n",
       "    </tr>\n",
       "    <tr>\n",
       "      <th>44</th>\n",
       "      <td>Adelie</td>\n",
       "      <td>Dream</td>\n",
       "      <td>37.0</td>\n",
       "      <td>16.9</td>\n",
       "      <td>185.0</td>\n",
       "      <td>3000.0</td>\n",
       "      <td>female</td>\n",
       "      <td>2007</td>\n",
       "    </tr>\n",
       "    <tr>\n",
       "      <th>45</th>\n",
       "      <td>Adelie</td>\n",
       "      <td>Dream</td>\n",
       "      <td>39.6</td>\n",
       "      <td>18.8</td>\n",
       "      <td>190.0</td>\n",
       "      <td>4600.0</td>\n",
       "      <td>male</td>\n",
       "      <td>2007</td>\n",
       "    </tr>\n",
       "    <tr>\n",
       "      <th>46</th>\n",
       "      <td>Adelie</td>\n",
       "      <td>Dream</td>\n",
       "      <td>41.1</td>\n",
       "      <td>19.0</td>\n",
       "      <td>182.0</td>\n",
       "      <td>3425.0</td>\n",
       "      <td>male</td>\n",
       "      <td>2007</td>\n",
       "    </tr>\n",
       "    <tr>\n",
       "      <th>47</th>\n",
       "      <td>Adelie</td>\n",
       "      <td>Dream</td>\n",
       "      <td>37.5</td>\n",
       "      <td>18.9</td>\n",
       "      <td>179.0</td>\n",
       "      <td>2975.0</td>\n",
       "      <td>NaN</td>\n",
       "      <td>2007</td>\n",
       "    </tr>\n",
       "    <tr>\n",
       "      <th>48</th>\n",
       "      <td>Adelie</td>\n",
       "      <td>Dream</td>\n",
       "      <td>36.0</td>\n",
       "      <td>17.9</td>\n",
       "      <td>190.0</td>\n",
       "      <td>3450.0</td>\n",
       "      <td>female</td>\n",
       "      <td>2007</td>\n",
       "    </tr>\n",
       "    <tr>\n",
       "      <th>49</th>\n",
       "      <td>Adelie</td>\n",
       "      <td>Dream</td>\n",
       "      <td>42.3</td>\n",
       "      <td>21.2</td>\n",
       "      <td>191.0</td>\n",
       "      <td>4150.0</td>\n",
       "      <td>male</td>\n",
       "      <td>2007</td>\n",
       "    </tr>\n",
       "    <tr>\n",
       "      <th>84</th>\n",
       "      <td>Adelie</td>\n",
       "      <td>Dream</td>\n",
       "      <td>37.3</td>\n",
       "      <td>17.8</td>\n",
       "      <td>191.0</td>\n",
       "      <td>3350.0</td>\n",
       "      <td>female</td>\n",
       "      <td>2008</td>\n",
       "    </tr>\n",
       "    <tr>\n",
       "      <th>85</th>\n",
       "      <td>Adelie</td>\n",
       "      <td>Dream</td>\n",
       "      <td>41.3</td>\n",
       "      <td>20.3</td>\n",
       "      <td>194.0</td>\n",
       "      <td>3550.0</td>\n",
       "      <td>male</td>\n",
       "      <td>2008</td>\n",
       "    </tr>\n",
       "    <tr>\n",
       "      <th>86</th>\n",
       "      <td>Adelie</td>\n",
       "      <td>Dream</td>\n",
       "      <td>36.3</td>\n",
       "      <td>19.5</td>\n",
       "      <td>190.0</td>\n",
       "      <td>3800.0</td>\n",
       "      <td>male</td>\n",
       "      <td>2008</td>\n",
       "    </tr>\n",
       "    <tr>\n",
       "      <th>87</th>\n",
       "      <td>Adelie</td>\n",
       "      <td>Dream</td>\n",
       "      <td>36.9</td>\n",
       "      <td>18.6</td>\n",
       "      <td>189.0</td>\n",
       "      <td>3500.0</td>\n",
       "      <td>female</td>\n",
       "      <td>2008</td>\n",
       "    </tr>\n",
       "    <tr>\n",
       "      <th>88</th>\n",
       "      <td>Adelie</td>\n",
       "      <td>Dream</td>\n",
       "      <td>38.3</td>\n",
       "      <td>19.2</td>\n",
       "      <td>189.0</td>\n",
       "      <td>3950.0</td>\n",
       "      <td>male</td>\n",
       "      <td>2008</td>\n",
       "    </tr>\n",
       "    <tr>\n",
       "      <th>89</th>\n",
       "      <td>Adelie</td>\n",
       "      <td>Dream</td>\n",
       "      <td>38.9</td>\n",
       "      <td>18.8</td>\n",
       "      <td>190.0</td>\n",
       "      <td>3600.0</td>\n",
       "      <td>female</td>\n",
       "      <td>2008</td>\n",
       "    </tr>\n",
       "    <tr>\n",
       "      <th>90</th>\n",
       "      <td>Adelie</td>\n",
       "      <td>Dream</td>\n",
       "      <td>35.7</td>\n",
       "      <td>18.0</td>\n",
       "      <td>202.0</td>\n",
       "      <td>3550.0</td>\n",
       "      <td>female</td>\n",
       "      <td>2008</td>\n",
       "    </tr>\n",
       "    <tr>\n",
       "      <th>91</th>\n",
       "      <td>Adelie</td>\n",
       "      <td>Dream</td>\n",
       "      <td>41.1</td>\n",
       "      <td>18.1</td>\n",
       "      <td>205.0</td>\n",
       "      <td>4300.0</td>\n",
       "      <td>male</td>\n",
       "      <td>2008</td>\n",
       "    </tr>\n",
       "    <tr>\n",
       "      <th>92</th>\n",
       "      <td>Adelie</td>\n",
       "      <td>Dream</td>\n",
       "      <td>34.0</td>\n",
       "      <td>17.1</td>\n",
       "      <td>185.0</td>\n",
       "      <td>3400.0</td>\n",
       "      <td>female</td>\n",
       "      <td>2008</td>\n",
       "    </tr>\n",
       "    <tr>\n",
       "      <th>93</th>\n",
       "      <td>Adelie</td>\n",
       "      <td>Dream</td>\n",
       "      <td>39.6</td>\n",
       "      <td>18.1</td>\n",
       "      <td>186.0</td>\n",
       "      <td>4450.0</td>\n",
       "      <td>male</td>\n",
       "      <td>2008</td>\n",
       "    </tr>\n",
       "    <tr>\n",
       "      <th>94</th>\n",
       "      <td>Adelie</td>\n",
       "      <td>Dream</td>\n",
       "      <td>36.2</td>\n",
       "      <td>17.3</td>\n",
       "      <td>187.0</td>\n",
       "      <td>3300.0</td>\n",
       "      <td>female</td>\n",
       "      <td>2008</td>\n",
       "    </tr>\n",
       "    <tr>\n",
       "      <th>95</th>\n",
       "      <td>Adelie</td>\n",
       "      <td>Dream</td>\n",
       "      <td>40.8</td>\n",
       "      <td>18.9</td>\n",
       "      <td>208.0</td>\n",
       "      <td>4300.0</td>\n",
       "      <td>male</td>\n",
       "      <td>2008</td>\n",
       "    </tr>\n",
       "    <tr>\n",
       "      <th>96</th>\n",
       "      <td>Adelie</td>\n",
       "      <td>Dream</td>\n",
       "      <td>38.1</td>\n",
       "      <td>18.6</td>\n",
       "      <td>190.0</td>\n",
       "      <td>3700.0</td>\n",
       "      <td>female</td>\n",
       "      <td>2008</td>\n",
       "    </tr>\n",
       "    <tr>\n",
       "      <th>97</th>\n",
       "      <td>Adelie</td>\n",
       "      <td>Dream</td>\n",
       "      <td>40.3</td>\n",
       "      <td>18.5</td>\n",
       "      <td>196.0</td>\n",
       "      <td>4350.0</td>\n",
       "      <td>male</td>\n",
       "      <td>2008</td>\n",
       "    </tr>\n",
       "    <tr>\n",
       "      <th>98</th>\n",
       "      <td>Adelie</td>\n",
       "      <td>Dream</td>\n",
       "      <td>33.1</td>\n",
       "      <td>16.1</td>\n",
       "      <td>178.0</td>\n",
       "      <td>2900.0</td>\n",
       "      <td>female</td>\n",
       "      <td>2008</td>\n",
       "    </tr>\n",
       "    <tr>\n",
       "      <th>99</th>\n",
       "      <td>Adelie</td>\n",
       "      <td>Dream</td>\n",
       "      <td>43.2</td>\n",
       "      <td>18.5</td>\n",
       "      <td>192.0</td>\n",
       "      <td>4100.0</td>\n",
       "      <td>male</td>\n",
       "      <td>2008</td>\n",
       "    </tr>\n",
       "    <tr>\n",
       "      <th>132</th>\n",
       "      <td>Adelie</td>\n",
       "      <td>Dream</td>\n",
       "      <td>36.8</td>\n",
       "      <td>18.5</td>\n",
       "      <td>193.0</td>\n",
       "      <td>3500.0</td>\n",
       "      <td>female</td>\n",
       "      <td>2009</td>\n",
       "    </tr>\n",
       "    <tr>\n",
       "      <th>133</th>\n",
       "      <td>Adelie</td>\n",
       "      <td>Dream</td>\n",
       "      <td>37.5</td>\n",
       "      <td>18.5</td>\n",
       "      <td>199.0</td>\n",
       "      <td>4475.0</td>\n",
       "      <td>male</td>\n",
       "      <td>2009</td>\n",
       "    </tr>\n",
       "    <tr>\n",
       "      <th>134</th>\n",
       "      <td>Adelie</td>\n",
       "      <td>Dream</td>\n",
       "      <td>38.1</td>\n",
       "      <td>17.6</td>\n",
       "      <td>187.0</td>\n",
       "      <td>3425.0</td>\n",
       "      <td>female</td>\n",
       "      <td>2009</td>\n",
       "    </tr>\n",
       "    <tr>\n",
       "      <th>135</th>\n",
       "      <td>Adelie</td>\n",
       "      <td>Dream</td>\n",
       "      <td>41.1</td>\n",
       "      <td>17.5</td>\n",
       "      <td>190.0</td>\n",
       "      <td>3900.0</td>\n",
       "      <td>male</td>\n",
       "      <td>2009</td>\n",
       "    </tr>\n",
       "    <tr>\n",
       "      <th>136</th>\n",
       "      <td>Adelie</td>\n",
       "      <td>Dream</td>\n",
       "      <td>35.6</td>\n",
       "      <td>17.5</td>\n",
       "      <td>191.0</td>\n",
       "      <td>3175.0</td>\n",
       "      <td>female</td>\n",
       "      <td>2009</td>\n",
       "    </tr>\n",
       "    <tr>\n",
       "      <th>137</th>\n",
       "      <td>Adelie</td>\n",
       "      <td>Dream</td>\n",
       "      <td>40.2</td>\n",
       "      <td>20.1</td>\n",
       "      <td>200.0</td>\n",
       "      <td>3975.0</td>\n",
       "      <td>male</td>\n",
       "      <td>2009</td>\n",
       "    </tr>\n",
       "    <tr>\n",
       "      <th>138</th>\n",
       "      <td>Adelie</td>\n",
       "      <td>Dream</td>\n",
       "      <td>37.0</td>\n",
       "      <td>16.5</td>\n",
       "      <td>185.0</td>\n",
       "      <td>3400.0</td>\n",
       "      <td>female</td>\n",
       "      <td>2009</td>\n",
       "    </tr>\n",
       "    <tr>\n",
       "      <th>139</th>\n",
       "      <td>Adelie</td>\n",
       "      <td>Dream</td>\n",
       "      <td>39.7</td>\n",
       "      <td>17.9</td>\n",
       "      <td>193.0</td>\n",
       "      <td>4250.0</td>\n",
       "      <td>male</td>\n",
       "      <td>2009</td>\n",
       "    </tr>\n",
       "    <tr>\n",
       "      <th>140</th>\n",
       "      <td>Adelie</td>\n",
       "      <td>Dream</td>\n",
       "      <td>40.2</td>\n",
       "      <td>17.1</td>\n",
       "      <td>193.0</td>\n",
       "      <td>3400.0</td>\n",
       "      <td>female</td>\n",
       "      <td>2009</td>\n",
       "    </tr>\n",
       "    <tr>\n",
       "      <th>141</th>\n",
       "      <td>Adelie</td>\n",
       "      <td>Dream</td>\n",
       "      <td>40.6</td>\n",
       "      <td>17.2</td>\n",
       "      <td>187.0</td>\n",
       "      <td>3475.0</td>\n",
       "      <td>male</td>\n",
       "      <td>2009</td>\n",
       "    </tr>\n",
       "    <tr>\n",
       "      <th>142</th>\n",
       "      <td>Adelie</td>\n",
       "      <td>Dream</td>\n",
       "      <td>32.1</td>\n",
       "      <td>15.5</td>\n",
       "      <td>188.0</td>\n",
       "      <td>3050.0</td>\n",
       "      <td>female</td>\n",
       "      <td>2009</td>\n",
       "    </tr>\n",
       "    <tr>\n",
       "      <th>143</th>\n",
       "      <td>Adelie</td>\n",
       "      <td>Dream</td>\n",
       "      <td>40.7</td>\n",
       "      <td>17.0</td>\n",
       "      <td>190.0</td>\n",
       "      <td>3725.0</td>\n",
       "      <td>male</td>\n",
       "      <td>2009</td>\n",
       "    </tr>\n",
       "    <tr>\n",
       "      <th>144</th>\n",
       "      <td>Adelie</td>\n",
       "      <td>Dream</td>\n",
       "      <td>37.3</td>\n",
       "      <td>16.8</td>\n",
       "      <td>192.0</td>\n",
       "      <td>3000.0</td>\n",
       "      <td>female</td>\n",
       "      <td>2009</td>\n",
       "    </tr>\n",
       "    <tr>\n",
       "      <th>145</th>\n",
       "      <td>Adelie</td>\n",
       "      <td>Dream</td>\n",
       "      <td>39.0</td>\n",
       "      <td>18.7</td>\n",
       "      <td>185.0</td>\n",
       "      <td>3650.0</td>\n",
       "      <td>male</td>\n",
       "      <td>2009</td>\n",
       "    </tr>\n",
       "    <tr>\n",
       "      <th>146</th>\n",
       "      <td>Adelie</td>\n",
       "      <td>Dream</td>\n",
       "      <td>39.2</td>\n",
       "      <td>18.6</td>\n",
       "      <td>190.0</td>\n",
       "      <td>4250.0</td>\n",
       "      <td>male</td>\n",
       "      <td>2009</td>\n",
       "    </tr>\n",
       "    <tr>\n",
       "      <th>147</th>\n",
       "      <td>Adelie</td>\n",
       "      <td>Dream</td>\n",
       "      <td>36.6</td>\n",
       "      <td>18.4</td>\n",
       "      <td>184.0</td>\n",
       "      <td>3475.0</td>\n",
       "      <td>female</td>\n",
       "      <td>2009</td>\n",
       "    </tr>\n",
       "    <tr>\n",
       "      <th>148</th>\n",
       "      <td>Adelie</td>\n",
       "      <td>Dream</td>\n",
       "      <td>36.0</td>\n",
       "      <td>17.8</td>\n",
       "      <td>195.0</td>\n",
       "      <td>3450.0</td>\n",
       "      <td>female</td>\n",
       "      <td>2009</td>\n",
       "    </tr>\n",
       "    <tr>\n",
       "      <th>149</th>\n",
       "      <td>Adelie</td>\n",
       "      <td>Dream</td>\n",
       "      <td>37.8</td>\n",
       "      <td>18.1</td>\n",
       "      <td>193.0</td>\n",
       "      <td>3750.0</td>\n",
       "      <td>male</td>\n",
       "      <td>2009</td>\n",
       "    </tr>\n",
       "    <tr>\n",
       "      <th>150</th>\n",
       "      <td>Adelie</td>\n",
       "      <td>Dream</td>\n",
       "      <td>36.0</td>\n",
       "      <td>17.1</td>\n",
       "      <td>187.0</td>\n",
       "      <td>3700.0</td>\n",
       "      <td>female</td>\n",
       "      <td>2009</td>\n",
       "    </tr>\n",
       "    <tr>\n",
       "      <th>151</th>\n",
       "      <td>Adelie</td>\n",
       "      <td>Dream</td>\n",
       "      <td>41.5</td>\n",
       "      <td>18.5</td>\n",
       "      <td>201.0</td>\n",
       "      <td>4000.0</td>\n",
       "      <td>male</td>\n",
       "      <td>2009</td>\n",
       "    </tr>\n",
       "  </tbody>\n",
       "</table>\n",
       "</div>"
      ],
      "text/plain": [
       "    species island  bill_length_mm  bill_depth_mm  flipper_length_mm  \\\n",
       "30   Adelie  Dream            39.5           16.7              178.0   \n",
       "31   Adelie  Dream            37.2           18.1              178.0   \n",
       "32   Adelie  Dream            39.5           17.8              188.0   \n",
       "33   Adelie  Dream            40.9           18.9              184.0   \n",
       "34   Adelie  Dream            36.4           17.0              195.0   \n",
       "35   Adelie  Dream            39.2           21.1              196.0   \n",
       "36   Adelie  Dream            38.8           20.0              190.0   \n",
       "37   Adelie  Dream            42.2           18.5              180.0   \n",
       "38   Adelie  Dream            37.6           19.3              181.0   \n",
       "39   Adelie  Dream            39.8           19.1              184.0   \n",
       "40   Adelie  Dream            36.5           18.0              182.0   \n",
       "41   Adelie  Dream            40.8           18.4              195.0   \n",
       "42   Adelie  Dream            36.0           18.5              186.0   \n",
       "43   Adelie  Dream            44.1           19.7              196.0   \n",
       "44   Adelie  Dream            37.0           16.9              185.0   \n",
       "45   Adelie  Dream            39.6           18.8              190.0   \n",
       "46   Adelie  Dream            41.1           19.0              182.0   \n",
       "47   Adelie  Dream            37.5           18.9              179.0   \n",
       "48   Adelie  Dream            36.0           17.9              190.0   \n",
       "49   Adelie  Dream            42.3           21.2              191.0   \n",
       "84   Adelie  Dream            37.3           17.8              191.0   \n",
       "85   Adelie  Dream            41.3           20.3              194.0   \n",
       "86   Adelie  Dream            36.3           19.5              190.0   \n",
       "87   Adelie  Dream            36.9           18.6              189.0   \n",
       "88   Adelie  Dream            38.3           19.2              189.0   \n",
       "89   Adelie  Dream            38.9           18.8              190.0   \n",
       "90   Adelie  Dream            35.7           18.0              202.0   \n",
       "91   Adelie  Dream            41.1           18.1              205.0   \n",
       "92   Adelie  Dream            34.0           17.1              185.0   \n",
       "93   Adelie  Dream            39.6           18.1              186.0   \n",
       "94   Adelie  Dream            36.2           17.3              187.0   \n",
       "95   Adelie  Dream            40.8           18.9              208.0   \n",
       "96   Adelie  Dream            38.1           18.6              190.0   \n",
       "97   Adelie  Dream            40.3           18.5              196.0   \n",
       "98   Adelie  Dream            33.1           16.1              178.0   \n",
       "99   Adelie  Dream            43.2           18.5              192.0   \n",
       "132  Adelie  Dream            36.8           18.5              193.0   \n",
       "133  Adelie  Dream            37.5           18.5              199.0   \n",
       "134  Adelie  Dream            38.1           17.6              187.0   \n",
       "135  Adelie  Dream            41.1           17.5              190.0   \n",
       "136  Adelie  Dream            35.6           17.5              191.0   \n",
       "137  Adelie  Dream            40.2           20.1              200.0   \n",
       "138  Adelie  Dream            37.0           16.5              185.0   \n",
       "139  Adelie  Dream            39.7           17.9              193.0   \n",
       "140  Adelie  Dream            40.2           17.1              193.0   \n",
       "141  Adelie  Dream            40.6           17.2              187.0   \n",
       "142  Adelie  Dream            32.1           15.5              188.0   \n",
       "143  Adelie  Dream            40.7           17.0              190.0   \n",
       "144  Adelie  Dream            37.3           16.8              192.0   \n",
       "145  Adelie  Dream            39.0           18.7              185.0   \n",
       "146  Adelie  Dream            39.2           18.6              190.0   \n",
       "147  Adelie  Dream            36.6           18.4              184.0   \n",
       "148  Adelie  Dream            36.0           17.8              195.0   \n",
       "149  Adelie  Dream            37.8           18.1              193.0   \n",
       "150  Adelie  Dream            36.0           17.1              187.0   \n",
       "151  Adelie  Dream            41.5           18.5              201.0   \n",
       "\n",
       "     body_mass_g     sex  year  \n",
       "30        3250.0  female  2007  \n",
       "31        3900.0    male  2007  \n",
       "32        3300.0  female  2007  \n",
       "33        3900.0    male  2007  \n",
       "34        3325.0  female  2007  \n",
       "35        4150.0    male  2007  \n",
       "36        3950.0    male  2007  \n",
       "37        3550.0  female  2007  \n",
       "38        3300.0  female  2007  \n",
       "39        4650.0    male  2007  \n",
       "40        3150.0  female  2007  \n",
       "41        3900.0    male  2007  \n",
       "42        3100.0  female  2007  \n",
       "43        4400.0    male  2007  \n",
       "44        3000.0  female  2007  \n",
       "45        4600.0    male  2007  \n",
       "46        3425.0    male  2007  \n",
       "47        2975.0     NaN  2007  \n",
       "48        3450.0  female  2007  \n",
       "49        4150.0    male  2007  \n",
       "84        3350.0  female  2008  \n",
       "85        3550.0    male  2008  \n",
       "86        3800.0    male  2008  \n",
       "87        3500.0  female  2008  \n",
       "88        3950.0    male  2008  \n",
       "89        3600.0  female  2008  \n",
       "90        3550.0  female  2008  \n",
       "91        4300.0    male  2008  \n",
       "92        3400.0  female  2008  \n",
       "93        4450.0    male  2008  \n",
       "94        3300.0  female  2008  \n",
       "95        4300.0    male  2008  \n",
       "96        3700.0  female  2008  \n",
       "97        4350.0    male  2008  \n",
       "98        2900.0  female  2008  \n",
       "99        4100.0    male  2008  \n",
       "132       3500.0  female  2009  \n",
       "133       4475.0    male  2009  \n",
       "134       3425.0  female  2009  \n",
       "135       3900.0    male  2009  \n",
       "136       3175.0  female  2009  \n",
       "137       3975.0    male  2009  \n",
       "138       3400.0  female  2009  \n",
       "139       4250.0    male  2009  \n",
       "140       3400.0  female  2009  \n",
       "141       3475.0    male  2009  \n",
       "142       3050.0  female  2009  \n",
       "143       3725.0    male  2009  \n",
       "144       3000.0  female  2009  \n",
       "145       3650.0    male  2009  \n",
       "146       4250.0    male  2009  \n",
       "147       3475.0  female  2009  \n",
       "148       3450.0  female  2009  \n",
       "149       3750.0    male  2009  \n",
       "150       3700.0  female  2009  \n",
       "151       4000.0    male  2009  "
      ]
     },
     "execution_count": 11,
     "metadata": {},
     "output_type": "execute_result"
    }
   ],
   "source": [
    "penguin['species'].value_counts()\n",
    "\n",
    "penguin [(penguin['species'] == 'Adelie') & (penguin['island'] == 'Dream')]"
   ]
  },
  {
   "cell_type": "code",
   "execution_count": 32,
   "id": "5beb8f76-efe9-4ffc-b184-73b93f3e0326",
   "metadata": {},
   "outputs": [
    {
     "data": {
      "text/plain": [
       "0      False\n",
       "1      False\n",
       "2      False\n",
       "3      False\n",
       "4      False\n",
       "       ...  \n",
       "339     True\n",
       "340    False\n",
       "341    False\n",
       "342     True\n",
       "343    False\n",
       "Name: body_mass_g, Length: 344, dtype: bool"
      ]
     },
     "execution_count": 32,
     "metadata": {},
     "output_type": "execute_result"
    }
   ],
   "source": [
    "penguin['body_mass_g'] >=4000"
   ]
  },
  {
   "cell_type": "code",
   "execution_count": 33,
   "id": "d965948c-1112-4fd8-bada-0a74e8d122ca",
   "metadata": {},
   "outputs": [
    {
     "data": {
      "text/plain": [
       "0      False\n",
       "1      False\n",
       "2      False\n",
       "3      False\n",
       "4      False\n",
       "       ...  \n",
       "339    False\n",
       "340    False\n",
       "341    False\n",
       "342    False\n",
       "343    False\n",
       "Length: 344, dtype: bool"
      ]
     },
     "execution_count": 33,
     "metadata": {},
     "output_type": "execute_result"
    }
   ],
   "source": [
    "(penguin['body_mass_g'] >=4000) & (penguin['species'] == 'Adelie')"
   ]
  },
  {
   "cell_type": "code",
   "execution_count": 34,
   "id": "e0018f49-bc83-49d7-b97a-a40e87fbc14e",
   "metadata": {},
   "outputs": [
    {
     "data": {
      "text/plain": [
       "0       True\n",
       "1       True\n",
       "2      False\n",
       "3      False\n",
       "4       True\n",
       "       ...  \n",
       "339    False\n",
       "340    False\n",
       "341    False\n",
       "342    False\n",
       "343    False\n",
       "Name: bill_length_mm, Length: 344, dtype: bool"
      ]
     },
     "execution_count": 34,
     "metadata": {},
     "output_type": "execute_result"
    }
   ],
   "source": [
    "penguin['bill_length_mm'] <=40"
   ]
  },
  {
   "cell_type": "code",
   "execution_count": 35,
   "id": "327d2a41-238e-45ff-b81d-61e05db6afbf",
   "metadata": {},
   "outputs": [
    {
     "data": {
      "text/plain": [
       "0      False\n",
       "1      False\n",
       "2      False\n",
       "3      False\n",
       "4      False\n",
       "       ...  \n",
       "339     True\n",
       "340     True\n",
       "341    False\n",
       "342     True\n",
       "343    False\n",
       "Name: flipper_length_mm, Length: 344, dtype: bool"
      ]
     },
     "execution_count": 35,
     "metadata": {},
     "output_type": "execute_result"
    }
   ],
   "source": [
    "penguin['flipper_length_mm'] >= 200"
   ]
  },
  {
   "cell_type": "markdown",
   "id": "e217b7d8-0dd1-4dcd-a42f-c3131ed30a7c",
   "metadata": {},
   "source": [
    "<hr><h1>Cleaning the Data Frame</h1>"
   ]
  },
  {
   "cell_type": "code",
   "execution_count": 12,
   "id": "60f6b4bf-25d4-4be3-ba89-1739e9329597",
   "metadata": {},
   "outputs": [
    {
     "data": {
      "text/html": [
       "<div>\n",
       "<style scoped>\n",
       "    .dataframe tbody tr th:only-of-type {\n",
       "        vertical-align: middle;\n",
       "    }\n",
       "\n",
       "    .dataframe tbody tr th {\n",
       "        vertical-align: top;\n",
       "    }\n",
       "\n",
       "    .dataframe thead th {\n",
       "        text-align: right;\n",
       "    }\n",
       "</style>\n",
       "<table border=\"1\" class=\"dataframe\">\n",
       "  <thead>\n",
       "    <tr style=\"text-align: right;\">\n",
       "      <th></th>\n",
       "      <th>species</th>\n",
       "      <th>island</th>\n",
       "      <th>bill_length_mm</th>\n",
       "      <th>bill_depth_mm</th>\n",
       "      <th>flipper_length_mm</th>\n",
       "      <th>body_mass_g</th>\n",
       "      <th>sex</th>\n",
       "      <th>year</th>\n",
       "    </tr>\n",
       "  </thead>\n",
       "  <tbody>\n",
       "    <tr>\n",
       "      <th>0</th>\n",
       "      <td>False</td>\n",
       "      <td>False</td>\n",
       "      <td>False</td>\n",
       "      <td>False</td>\n",
       "      <td>False</td>\n",
       "      <td>False</td>\n",
       "      <td>False</td>\n",
       "      <td>False</td>\n",
       "    </tr>\n",
       "    <tr>\n",
       "      <th>1</th>\n",
       "      <td>False</td>\n",
       "      <td>False</td>\n",
       "      <td>False</td>\n",
       "      <td>False</td>\n",
       "      <td>False</td>\n",
       "      <td>False</td>\n",
       "      <td>False</td>\n",
       "      <td>False</td>\n",
       "    </tr>\n",
       "    <tr>\n",
       "      <th>2</th>\n",
       "      <td>False</td>\n",
       "      <td>False</td>\n",
       "      <td>False</td>\n",
       "      <td>False</td>\n",
       "      <td>False</td>\n",
       "      <td>False</td>\n",
       "      <td>False</td>\n",
       "      <td>False</td>\n",
       "    </tr>\n",
       "    <tr>\n",
       "      <th>3</th>\n",
       "      <td>False</td>\n",
       "      <td>False</td>\n",
       "      <td>True</td>\n",
       "      <td>True</td>\n",
       "      <td>True</td>\n",
       "      <td>True</td>\n",
       "      <td>True</td>\n",
       "      <td>False</td>\n",
       "    </tr>\n",
       "    <tr>\n",
       "      <th>4</th>\n",
       "      <td>False</td>\n",
       "      <td>False</td>\n",
       "      <td>False</td>\n",
       "      <td>False</td>\n",
       "      <td>False</td>\n",
       "      <td>False</td>\n",
       "      <td>False</td>\n",
       "      <td>False</td>\n",
       "    </tr>\n",
       "    <tr>\n",
       "      <th>...</th>\n",
       "      <td>...</td>\n",
       "      <td>...</td>\n",
       "      <td>...</td>\n",
       "      <td>...</td>\n",
       "      <td>...</td>\n",
       "      <td>...</td>\n",
       "      <td>...</td>\n",
       "      <td>...</td>\n",
       "    </tr>\n",
       "    <tr>\n",
       "      <th>339</th>\n",
       "      <td>False</td>\n",
       "      <td>False</td>\n",
       "      <td>False</td>\n",
       "      <td>False</td>\n",
       "      <td>False</td>\n",
       "      <td>False</td>\n",
       "      <td>False</td>\n",
       "      <td>False</td>\n",
       "    </tr>\n",
       "    <tr>\n",
       "      <th>340</th>\n",
       "      <td>False</td>\n",
       "      <td>False</td>\n",
       "      <td>False</td>\n",
       "      <td>False</td>\n",
       "      <td>False</td>\n",
       "      <td>False</td>\n",
       "      <td>False</td>\n",
       "      <td>False</td>\n",
       "    </tr>\n",
       "    <tr>\n",
       "      <th>341</th>\n",
       "      <td>False</td>\n",
       "      <td>False</td>\n",
       "      <td>False</td>\n",
       "      <td>False</td>\n",
       "      <td>False</td>\n",
       "      <td>False</td>\n",
       "      <td>False</td>\n",
       "      <td>False</td>\n",
       "    </tr>\n",
       "    <tr>\n",
       "      <th>342</th>\n",
       "      <td>False</td>\n",
       "      <td>False</td>\n",
       "      <td>False</td>\n",
       "      <td>False</td>\n",
       "      <td>False</td>\n",
       "      <td>False</td>\n",
       "      <td>False</td>\n",
       "      <td>False</td>\n",
       "    </tr>\n",
       "    <tr>\n",
       "      <th>343</th>\n",
       "      <td>False</td>\n",
       "      <td>False</td>\n",
       "      <td>False</td>\n",
       "      <td>False</td>\n",
       "      <td>False</td>\n",
       "      <td>False</td>\n",
       "      <td>False</td>\n",
       "      <td>False</td>\n",
       "    </tr>\n",
       "  </tbody>\n",
       "</table>\n",
       "<p>344 rows × 8 columns</p>\n",
       "</div>"
      ],
      "text/plain": [
       "     species  island  bill_length_mm  bill_depth_mm  flipper_length_mm  \\\n",
       "0      False   False           False          False              False   \n",
       "1      False   False           False          False              False   \n",
       "2      False   False           False          False              False   \n",
       "3      False   False            True           True               True   \n",
       "4      False   False           False          False              False   \n",
       "..       ...     ...             ...            ...                ...   \n",
       "339    False   False           False          False              False   \n",
       "340    False   False           False          False              False   \n",
       "341    False   False           False          False              False   \n",
       "342    False   False           False          False              False   \n",
       "343    False   False           False          False              False   \n",
       "\n",
       "     body_mass_g    sex   year  \n",
       "0          False  False  False  \n",
       "1          False  False  False  \n",
       "2          False  False  False  \n",
       "3           True   True  False  \n",
       "4          False  False  False  \n",
       "..           ...    ...    ...  \n",
       "339        False  False  False  \n",
       "340        False  False  False  \n",
       "341        False  False  False  \n",
       "342        False  False  False  \n",
       "343        False  False  False  \n",
       "\n",
       "[344 rows x 8 columns]"
      ]
     },
     "execution_count": 12,
     "metadata": {},
     "output_type": "execute_result"
    }
   ],
   "source": [
    "penguin.isnull()"
   ]
  },
  {
   "cell_type": "code",
   "execution_count": 13,
   "id": "e961edcc-c6b0-4551-a4fd-48bc43736498",
   "metadata": {},
   "outputs": [
    {
     "data": {
      "text/plain": [
       "species               0\n",
       "island                0\n",
       "bill_length_mm        2\n",
       "bill_depth_mm         2\n",
       "flipper_length_mm     2\n",
       "body_mass_g           2\n",
       "sex                  11\n",
       "year                  0\n",
       "dtype: int64"
      ]
     },
     "execution_count": 13,
     "metadata": {},
     "output_type": "execute_result"
    }
   ],
   "source": [
    "penguin.isnull().sum()"
   ]
  },
  {
   "cell_type": "markdown",
   "id": "e625c4f2-9289-4faf-b927-04a5d2377daa",
   "metadata": {},
   "source": [
    "<h1>What to do with all the NULL VALUES?</h1>"
   ]
  },
  {
   "cell_type": "code",
   "execution_count": 14,
   "id": "795ec94a-11aa-42eb-9af6-b8542dbc4975",
   "metadata": {},
   "outputs": [
    {
     "data": {
      "text/plain": [
       "0      39.1\n",
       "1      39.5\n",
       "2      40.3\n",
       "3       NaN\n",
       "4      36.7\n",
       "       ... \n",
       "339    55.8\n",
       "340    43.5\n",
       "341    49.6\n",
       "342    50.8\n",
       "343    50.2\n",
       "Name: bill_length_mm, Length: 344, dtype: float64"
      ]
     },
     "execution_count": 14,
     "metadata": {},
     "output_type": "execute_result"
    }
   ],
   "source": [
    "penguin['bill_length_mm']"
   ]
  },
  {
   "cell_type": "code",
   "execution_count": 15,
   "id": "08ec2525-1d2b-4b2c-a6db-be18b7227c18",
   "metadata": {},
   "outputs": [
    {
     "data": {
      "text/plain": [
       "np.float64(43.9219298245614)"
      ]
     },
     "execution_count": 15,
     "metadata": {},
     "output_type": "execute_result"
    }
   ],
   "source": [
    "penguin['bill_length_mm'].mean()"
   ]
  },
  {
   "cell_type": "code",
   "execution_count": 16,
   "id": "78085c30-dce0-47b2-b0e6-a252016e514b",
   "metadata": {},
   "outputs": [
    {
     "data": {
      "text/plain": [
       "0    male\n",
       "Name: sex, dtype: object"
      ]
     },
     "execution_count": 16,
     "metadata": {},
     "output_type": "execute_result"
    }
   ],
   "source": [
    "penguin['sex'].mode()"
   ]
  },
  {
   "cell_type": "markdown",
   "id": "9c551535-1310-4d2a-8845-c3846de67535",
   "metadata": {},
   "source": [
    "<hr><h1>HOW TO FILLUP NULL VALUES</h1>"
   ]
  },
  {
   "cell_type": "code",
   "execution_count": 17,
   "id": "67425097-1de6-4a39-8cfd-c5dd34c89ddd",
   "metadata": {},
   "outputs": [],
   "source": [
    "penguin['bill_length_mm'] = penguin['bill_length_mm'].fillna(penguin['bill_length_mm'].mean())"
   ]
  },
  {
   "cell_type": "code",
   "execution_count": 36,
   "id": "9218dcfa-9db0-4b00-961c-d57c293f6016",
   "metadata": {},
   "outputs": [],
   "source": [
    "penguin['sex'] = penguin['sex'].fillna(penguin['sex'].mode()[0])"
   ]
  },
  {
   "cell_type": "code",
   "execution_count": 37,
   "id": "d61790bf-9eea-420a-9190-b2c229414190",
   "metadata": {},
   "outputs": [
    {
     "data": {
      "text/plain": [
       "species              0\n",
       "island               0\n",
       "bill_length_mm       0\n",
       "bill_depth_mm        2\n",
       "flipper_length_mm    2\n",
       "body_mass_g          2\n",
       "sex                  0\n",
       "year                 0\n",
       "dtype: int64"
      ]
     },
     "execution_count": 37,
     "metadata": {},
     "output_type": "execute_result"
    }
   ],
   "source": [
    "penguin.isnull().sum()"
   ]
  },
  {
   "cell_type": "code",
   "execution_count": 38,
   "id": "902925a3-345c-483e-b64f-fc691a746924",
   "metadata": {},
   "outputs": [],
   "source": [
    "penguin['flipper_length_mm'] = penguin['flipper_length_mm'].fillna(penguin['flipper_length_mm'].mean())"
   ]
  },
  {
   "cell_type": "code",
   "execution_count": 39,
   "id": "97d71a3c-9c9c-4376-8855-453146433a67",
   "metadata": {},
   "outputs": [
    {
     "data": {
      "text/plain": [
       "species              0\n",
       "island               0\n",
       "bill_length_mm       0\n",
       "bill_depth_mm        2\n",
       "flipper_length_mm    0\n",
       "body_mass_g          2\n",
       "sex                  0\n",
       "year                 0\n",
       "dtype: int64"
      ]
     },
     "execution_count": 39,
     "metadata": {},
     "output_type": "execute_result"
    }
   ],
   "source": [
    "penguin.isnull().sum()"
   ]
  },
  {
   "cell_type": "code",
   "execution_count": 19,
   "id": "f5b1b702-1b37-489f-88dd-607fac1ac16d",
   "metadata": {},
   "outputs": [],
   "source": [
    "penguin['sex'] = penguin['sex'].fillna(penguin['sex'].mode()[0])"
   ]
  },
  {
   "cell_type": "code",
   "execution_count": 20,
   "id": "0006a7ea-4031-49d9-97f7-1e94eafcf47c",
   "metadata": {},
   "outputs": [
    {
     "data": {
      "text/plain": [
       "species              0\n",
       "island               0\n",
       "bill_length_mm       0\n",
       "bill_depth_mm        2\n",
       "flipper_length_mm    2\n",
       "body_mass_g          2\n",
       "sex                  0\n",
       "year                 0\n",
       "dtype: int64"
      ]
     },
     "execution_count": 20,
     "metadata": {},
     "output_type": "execute_result"
    }
   ],
   "source": [
    "penguin.isnull().sum()"
   ]
  },
  {
   "cell_type": "markdown",
   "id": "9e8def30-2f2b-4b38-858a-1eb96e225b6a",
   "metadata": {},
   "source": [
    "<h1>DATA TYPES</h1>"
   ]
  },
  {
   "cell_type": "code",
   "execution_count": 40,
   "id": "36961b05-0708-486d-b68e-0893bb9d2b9d",
   "metadata": {},
   "outputs": [
    {
     "data": {
      "text/html": [
       "<div>\n",
       "<style scoped>\n",
       "    .dataframe tbody tr th:only-of-type {\n",
       "        vertical-align: middle;\n",
       "    }\n",
       "\n",
       "    .dataframe tbody tr th {\n",
       "        vertical-align: top;\n",
       "    }\n",
       "\n",
       "    .dataframe thead th {\n",
       "        text-align: right;\n",
       "    }\n",
       "</style>\n",
       "<table border=\"1\" class=\"dataframe\">\n",
       "  <thead>\n",
       "    <tr style=\"text-align: right;\">\n",
       "      <th></th>\n",
       "      <th>bill_length_mm</th>\n",
       "      <th>bill_depth_mm</th>\n",
       "      <th>flipper_length_mm</th>\n",
       "      <th>body_mass_g</th>\n",
       "    </tr>\n",
       "  </thead>\n",
       "  <tbody>\n",
       "    <tr>\n",
       "      <th>count</th>\n",
       "      <td>344.000000</td>\n",
       "      <td>342.000000</td>\n",
       "      <td>344.000000</td>\n",
       "      <td>342.000000</td>\n",
       "    </tr>\n",
       "    <tr>\n",
       "      <th>mean</th>\n",
       "      <td>43.921930</td>\n",
       "      <td>17.151170</td>\n",
       "      <td>200.915205</td>\n",
       "      <td>4201.754386</td>\n",
       "    </tr>\n",
       "    <tr>\n",
       "      <th>std</th>\n",
       "      <td>5.443643</td>\n",
       "      <td>1.974793</td>\n",
       "      <td>14.020657</td>\n",
       "      <td>801.954536</td>\n",
       "    </tr>\n",
       "    <tr>\n",
       "      <th>min</th>\n",
       "      <td>32.100000</td>\n",
       "      <td>13.100000</td>\n",
       "      <td>172.000000</td>\n",
       "      <td>2700.000000</td>\n",
       "    </tr>\n",
       "    <tr>\n",
       "      <th>25%</th>\n",
       "      <td>39.275000</td>\n",
       "      <td>15.600000</td>\n",
       "      <td>190.000000</td>\n",
       "      <td>3550.000000</td>\n",
       "    </tr>\n",
       "    <tr>\n",
       "      <th>50%</th>\n",
       "      <td>44.250000</td>\n",
       "      <td>17.300000</td>\n",
       "      <td>197.000000</td>\n",
       "      <td>4050.000000</td>\n",
       "    </tr>\n",
       "    <tr>\n",
       "      <th>75%</th>\n",
       "      <td>48.500000</td>\n",
       "      <td>18.700000</td>\n",
       "      <td>213.000000</td>\n",
       "      <td>4750.000000</td>\n",
       "    </tr>\n",
       "    <tr>\n",
       "      <th>max</th>\n",
       "      <td>59.600000</td>\n",
       "      <td>21.500000</td>\n",
       "      <td>231.000000</td>\n",
       "      <td>6300.000000</td>\n",
       "    </tr>\n",
       "  </tbody>\n",
       "</table>\n",
       "</div>"
      ],
      "text/plain": [
       "       bill_length_mm  bill_depth_mm  flipper_length_mm  body_mass_g\n",
       "count      344.000000     342.000000         344.000000   342.000000\n",
       "mean        43.921930      17.151170         200.915205  4201.754386\n",
       "std          5.443643       1.974793          14.020657   801.954536\n",
       "min         32.100000      13.100000         172.000000  2700.000000\n",
       "25%         39.275000      15.600000         190.000000  3550.000000\n",
       "50%         44.250000      17.300000         197.000000  4050.000000\n",
       "75%         48.500000      18.700000         213.000000  4750.000000\n",
       "max         59.600000      21.500000         231.000000  6300.000000"
      ]
     },
     "execution_count": 40,
     "metadata": {},
     "output_type": "execute_result"
    }
   ],
   "source": [
    "penguin.describe()"
   ]
  },
  {
   "cell_type": "markdown",
   "id": "9be32a3e-60ff-4388-9e63-a83c5bc9543c",
   "metadata": {},
   "source": [
    "<h1>CHANGING DATA TYPES</h1>"
   ]
  },
  {
   "cell_type": "code",
   "execution_count": 21,
   "id": "b2b4ef6f-0cc9-4348-a5b0-e87663dd64b0",
   "metadata": {},
   "outputs": [],
   "source": [
    "penguin['species'] = penguin['species'].astype('category')\n",
    "penguin['year'] = penguin['year'].astype('category')"
   ]
  },
  {
   "cell_type": "code",
   "execution_count": 22,
   "id": "a968dc2c-8a1d-4768-8c80-d080a35a7abd",
   "metadata": {
    "scrolled": true
   },
   "outputs": [
    {
     "name": "stdout",
     "output_type": "stream",
     "text": [
      "<class 'pandas.core.frame.DataFrame'>\n",
      "RangeIndex: 344 entries, 0 to 343\n",
      "Data columns (total 8 columns):\n",
      " #   Column             Non-Null Count  Dtype   \n",
      "---  ------             --------------  -----   \n",
      " 0   species            344 non-null    category\n",
      " 1   island             344 non-null    object  \n",
      " 2   bill_length_mm     344 non-null    float64 \n",
      " 3   bill_depth_mm      342 non-null    float64 \n",
      " 4   flipper_length_mm  342 non-null    float64 \n",
      " 5   body_mass_g        342 non-null    float64 \n",
      " 6   sex                344 non-null    object  \n",
      " 7   year               344 non-null    category\n",
      "dtypes: category(2), float64(4), object(2)\n",
      "memory usage: 17.2+ KB\n"
     ]
    }
   ],
   "source": [
    "penguin.info()"
   ]
  },
  {
   "cell_type": "code",
   "execution_count": 41,
   "id": "44f5036f-d15a-4b63-82ac-1604c63f9cd1",
   "metadata": {},
   "outputs": [
    {
     "data": {
      "text/html": [
       "<div>\n",
       "<style scoped>\n",
       "    .dataframe tbody tr th:only-of-type {\n",
       "        vertical-align: middle;\n",
       "    }\n",
       "\n",
       "    .dataframe tbody tr th {\n",
       "        vertical-align: top;\n",
       "    }\n",
       "\n",
       "    .dataframe thead th {\n",
       "        text-align: right;\n",
       "    }\n",
       "</style>\n",
       "<table border=\"1\" class=\"dataframe\">\n",
       "  <thead>\n",
       "    <tr style=\"text-align: right;\">\n",
       "      <th></th>\n",
       "      <th>bill_length_mm</th>\n",
       "      <th>bill_depth_mm</th>\n",
       "      <th>flipper_length_mm</th>\n",
       "      <th>body_mass_g</th>\n",
       "    </tr>\n",
       "  </thead>\n",
       "  <tbody>\n",
       "    <tr>\n",
       "      <th>count</th>\n",
       "      <td>344.000000</td>\n",
       "      <td>342.000000</td>\n",
       "      <td>344.000000</td>\n",
       "      <td>342.000000</td>\n",
       "    </tr>\n",
       "    <tr>\n",
       "      <th>mean</th>\n",
       "      <td>43.921930</td>\n",
       "      <td>17.151170</td>\n",
       "      <td>200.915205</td>\n",
       "      <td>4201.754386</td>\n",
       "    </tr>\n",
       "    <tr>\n",
       "      <th>std</th>\n",
       "      <td>5.443643</td>\n",
       "      <td>1.974793</td>\n",
       "      <td>14.020657</td>\n",
       "      <td>801.954536</td>\n",
       "    </tr>\n",
       "    <tr>\n",
       "      <th>min</th>\n",
       "      <td>32.100000</td>\n",
       "      <td>13.100000</td>\n",
       "      <td>172.000000</td>\n",
       "      <td>2700.000000</td>\n",
       "    </tr>\n",
       "    <tr>\n",
       "      <th>25%</th>\n",
       "      <td>39.275000</td>\n",
       "      <td>15.600000</td>\n",
       "      <td>190.000000</td>\n",
       "      <td>3550.000000</td>\n",
       "    </tr>\n",
       "    <tr>\n",
       "      <th>50%</th>\n",
       "      <td>44.250000</td>\n",
       "      <td>17.300000</td>\n",
       "      <td>197.000000</td>\n",
       "      <td>4050.000000</td>\n",
       "    </tr>\n",
       "    <tr>\n",
       "      <th>75%</th>\n",
       "      <td>48.500000</td>\n",
       "      <td>18.700000</td>\n",
       "      <td>213.000000</td>\n",
       "      <td>4750.000000</td>\n",
       "    </tr>\n",
       "    <tr>\n",
       "      <th>max</th>\n",
       "      <td>59.600000</td>\n",
       "      <td>21.500000</td>\n",
       "      <td>231.000000</td>\n",
       "      <td>6300.000000</td>\n",
       "    </tr>\n",
       "  </tbody>\n",
       "</table>\n",
       "</div>"
      ],
      "text/plain": [
       "       bill_length_mm  bill_depth_mm  flipper_length_mm  body_mass_g\n",
       "count      344.000000     342.000000         344.000000   342.000000\n",
       "mean        43.921930      17.151170         200.915205  4201.754386\n",
       "std          5.443643       1.974793          14.020657   801.954536\n",
       "min         32.100000      13.100000         172.000000  2700.000000\n",
       "25%         39.275000      15.600000         190.000000  3550.000000\n",
       "50%         44.250000      17.300000         197.000000  4050.000000\n",
       "75%         48.500000      18.700000         213.000000  4750.000000\n",
       "max         59.600000      21.500000         231.000000  6300.000000"
      ]
     },
     "execution_count": 41,
     "metadata": {},
     "output_type": "execute_result"
    }
   ],
   "source": [
    "penguin.describe()"
   ]
  },
  {
   "cell_type": "markdown",
   "id": "8ecb0b20-e493-484c-a67e-bccaf86a4e6f",
   "metadata": {},
   "source": [
    "<h2>EXPLORING DATA ANALYSIS (EDA) </h1>"
   ]
  },
  {
   "cell_type": "markdown",
   "id": "057a7129-dd9a-4753-a071-92817b6437c0",
   "metadata": {},
   "source": [
    "<h3>Which Specie of Penguin amongst the dataset is the heaviest?</h3>"
   ]
  },
  {
   "cell_type": "code",
   "execution_count": 23,
   "id": "b4c4e7e5-fdb8-45b0-826c-75ba9eb32869",
   "metadata": {},
   "outputs": [
    {
     "data": {
      "text/plain": [
       "np.float64(4201.754385964912)"
      ]
     },
     "execution_count": 23,
     "metadata": {},
     "output_type": "execute_result"
    }
   ],
   "source": [
    "penguin['body_mass_g'].mean()"
   ]
  },
  {
   "cell_type": "code",
   "execution_count": 24,
   "id": "a3bfa4c9-4ce7-4e75-bb32-8210a2295f09",
   "metadata": {},
   "outputs": [],
   "source": [
    "adelie_df = penguin[penguin['species'] == \"Adelie\"]"
   ]
  },
  {
   "cell_type": "code",
   "execution_count": 25,
   "id": "adfa34d0-5b20-46ef-af58-6f9af3b0c5ab",
   "metadata": {},
   "outputs": [
    {
     "data": {
      "text/plain": [
       "np.float64(4201.754385964912)"
      ]
     },
     "execution_count": 25,
     "metadata": {},
     "output_type": "execute_result"
    }
   ],
   "source": [
    "penguin['body_mass_g'].mean()"
   ]
  },
  {
   "cell_type": "code",
   "execution_count": 26,
   "id": "3048ef0c-631f-4b57-a98d-0dbd64e680e5",
   "metadata": {},
   "outputs": [
    {
     "data": {
      "text/plain": [
       "np.float64(3700.662251655629)"
      ]
     },
     "execution_count": 26,
     "metadata": {},
     "output_type": "execute_result"
    }
   ],
   "source": [
    "penguin[penguin['species'] == \"Adelie\"]['body_mass_g'].mean()"
   ]
  },
  {
   "cell_type": "markdown",
   "id": "9b1e4b28-495b-46ea-8baf-cee02792a985",
   "metadata": {},
   "source": [
    "<h3>1. How many penguins were observed on Torgesen island?</h3>"
   ]
  },
  {
   "cell_type": "code",
   "execution_count": 83,
   "id": "328659f4-a4d3-4515-a21f-c1495eed2787",
   "metadata": {},
   "outputs": [
    {
     "name": "stdout",
     "output_type": "stream",
     "text": [
      "<class 'pandas.core.frame.DataFrame'>\n",
      "RangeIndex: 344 entries, 0 to 343\n",
      "Data columns (total 8 columns):\n",
      " #   Column             Non-Null Count  Dtype   \n",
      "---  ------             --------------  -----   \n",
      " 0   species            344 non-null    category\n",
      " 1   island             344 non-null    object  \n",
      " 2   bill_length_mm     344 non-null    float64 \n",
      " 3   bill_depth_mm      342 non-null    float64 \n",
      " 4   flipper_length_mm  344 non-null    float64 \n",
      " 5   body_mass_g        342 non-null    float64 \n",
      " 6   sex                344 non-null    object  \n",
      " 7   year               344 non-null    category\n",
      "dtypes: category(2), float64(4), object(2)\n",
      "memory usage: 17.2+ KB\n"
     ]
    }
   ],
   "source": [
    "penguin.info()"
   ]
  },
  {
   "cell_type": "code",
   "execution_count": 43,
   "id": "4d8ac33c-4d3a-401f-9e4c-20081341bacd",
   "metadata": {},
   "outputs": [],
   "source": [
    "torgesen_data = penguin[penguin['island'] == 'Torgesen']"
   ]
  },
  {
   "cell_type": "code",
   "execution_count": 80,
   "id": "bd7e052a-88fd-49e2-82e8-7383de412c3d",
   "metadata": {},
   "outputs": [
    {
     "data": {
      "text/plain": [
       "0"
      ]
     },
     "execution_count": 80,
     "metadata": {},
     "output_type": "execute_result"
    }
   ],
   "source": [
    "number_of_penguins = torgesen_data.shape[0]\n",
    "number_of_penguins"
   ]
  },
  {
   "cell_type": "markdown",
   "id": "41338ea1-2080-42e6-98e6-8fbe0c02ec35",
   "metadata": {},
   "source": [
    "<h4>INSIGHT: BASED ON THE RESULT ABOVE, IT SEEMS THAT THERE IS NO PENGUINS WERE OBSERVED ON TORGESEN ISLAND..</h4><hr>"
   ]
  },
  {
   "cell_type": "markdown",
   "id": "0cd10e5b-23cf-419f-8f62-b65821c6c999",
   "metadata": {},
   "source": [
    "<h3>2. How many Gentoo penguins are in the dataset?</h3><hr>"
   ]
  },
  {
   "cell_type": "code",
   "execution_count": 46,
   "id": "a2314df2-badf-465f-a86a-7ed9a492b0da",
   "metadata": {},
   "outputs": [],
   "source": [
    "gentoo_count = penguin[penguin['species'] == 'Gentoo'].shape[0]"
   ]
  },
  {
   "cell_type": "code",
   "execution_count": 47,
   "id": "84d1e659-6c75-46b4-9418-8ed0e7a59b97",
   "metadata": {},
   "outputs": [
    {
     "data": {
      "text/plain": [
       "124"
      ]
     },
     "execution_count": 47,
     "metadata": {},
     "output_type": "execute_result"
    }
   ],
   "source": [
    "gentoo_count"
   ]
  },
  {
   "cell_type": "markdown",
   "id": "bb0a495d-bf64-4bb0-bce2-f08d70b2298b",
   "metadata": {},
   "source": [
    "<h4>ACCORDING FROM THE GIVEN DATA ABOVE, IT SHOWS THAT THERE ARE 124 PENGUINS ARE IN GENTOO</h4><hr>"
   ]
  },
  {
   "cell_type": "markdown",
   "id": "9adccedf-e0a3-4538-8ef6-0ec2ec6e85d3",
   "metadata": {},
   "source": [
    "<h3>3. What is the bill length of the first Adelie penguin listed?</h3><hr>"
   ]
  },
  {
   "cell_type": "code",
   "execution_count": 48,
   "id": "64b80b1c-ddcc-4594-87b4-126b0908b373",
   "metadata": {},
   "outputs": [
    {
     "data": {
      "text/html": [
       "<div>\n",
       "<style scoped>\n",
       "    .dataframe tbody tr th:only-of-type {\n",
       "        vertical-align: middle;\n",
       "    }\n",
       "\n",
       "    .dataframe tbody tr th {\n",
       "        vertical-align: top;\n",
       "    }\n",
       "\n",
       "    .dataframe thead th {\n",
       "        text-align: right;\n",
       "    }\n",
       "</style>\n",
       "<table border=\"1\" class=\"dataframe\">\n",
       "  <thead>\n",
       "    <tr style=\"text-align: right;\">\n",
       "      <th></th>\n",
       "      <th>species</th>\n",
       "      <th>island</th>\n",
       "      <th>bill_length_mm</th>\n",
       "      <th>bill_depth_mm</th>\n",
       "      <th>flipper_length_mm</th>\n",
       "      <th>body_mass_g</th>\n",
       "      <th>sex</th>\n",
       "      <th>year</th>\n",
       "    </tr>\n",
       "  </thead>\n",
       "  <tbody>\n",
       "    <tr>\n",
       "      <th>0</th>\n",
       "      <td>Adelie</td>\n",
       "      <td>Torgersen</td>\n",
       "      <td>39.10000</td>\n",
       "      <td>18.7</td>\n",
       "      <td>181.000000</td>\n",
       "      <td>3750.0</td>\n",
       "      <td>male</td>\n",
       "      <td>2007</td>\n",
       "    </tr>\n",
       "    <tr>\n",
       "      <th>1</th>\n",
       "      <td>Adelie</td>\n",
       "      <td>Torgersen</td>\n",
       "      <td>39.50000</td>\n",
       "      <td>17.4</td>\n",
       "      <td>186.000000</td>\n",
       "      <td>3800.0</td>\n",
       "      <td>female</td>\n",
       "      <td>2007</td>\n",
       "    </tr>\n",
       "    <tr>\n",
       "      <th>2</th>\n",
       "      <td>Adelie</td>\n",
       "      <td>Torgersen</td>\n",
       "      <td>40.30000</td>\n",
       "      <td>18.0</td>\n",
       "      <td>195.000000</td>\n",
       "      <td>3250.0</td>\n",
       "      <td>female</td>\n",
       "      <td>2007</td>\n",
       "    </tr>\n",
       "    <tr>\n",
       "      <th>3</th>\n",
       "      <td>Adelie</td>\n",
       "      <td>Torgersen</td>\n",
       "      <td>43.92193</td>\n",
       "      <td>NaN</td>\n",
       "      <td>200.915205</td>\n",
       "      <td>NaN</td>\n",
       "      <td>male</td>\n",
       "      <td>2007</td>\n",
       "    </tr>\n",
       "    <tr>\n",
       "      <th>4</th>\n",
       "      <td>Adelie</td>\n",
       "      <td>Torgersen</td>\n",
       "      <td>36.70000</td>\n",
       "      <td>19.3</td>\n",
       "      <td>193.000000</td>\n",
       "      <td>3450.0</td>\n",
       "      <td>female</td>\n",
       "      <td>2007</td>\n",
       "    </tr>\n",
       "    <tr>\n",
       "      <th>...</th>\n",
       "      <td>...</td>\n",
       "      <td>...</td>\n",
       "      <td>...</td>\n",
       "      <td>...</td>\n",
       "      <td>...</td>\n",
       "      <td>...</td>\n",
       "      <td>...</td>\n",
       "      <td>...</td>\n",
       "    </tr>\n",
       "    <tr>\n",
       "      <th>339</th>\n",
       "      <td>Chinstrap</td>\n",
       "      <td>Dream</td>\n",
       "      <td>55.80000</td>\n",
       "      <td>19.8</td>\n",
       "      <td>207.000000</td>\n",
       "      <td>4000.0</td>\n",
       "      <td>male</td>\n",
       "      <td>2009</td>\n",
       "    </tr>\n",
       "    <tr>\n",
       "      <th>340</th>\n",
       "      <td>Chinstrap</td>\n",
       "      <td>Dream</td>\n",
       "      <td>43.50000</td>\n",
       "      <td>18.1</td>\n",
       "      <td>202.000000</td>\n",
       "      <td>3400.0</td>\n",
       "      <td>female</td>\n",
       "      <td>2009</td>\n",
       "    </tr>\n",
       "    <tr>\n",
       "      <th>341</th>\n",
       "      <td>Chinstrap</td>\n",
       "      <td>Dream</td>\n",
       "      <td>49.60000</td>\n",
       "      <td>18.2</td>\n",
       "      <td>193.000000</td>\n",
       "      <td>3775.0</td>\n",
       "      <td>male</td>\n",
       "      <td>2009</td>\n",
       "    </tr>\n",
       "    <tr>\n",
       "      <th>342</th>\n",
       "      <td>Chinstrap</td>\n",
       "      <td>Dream</td>\n",
       "      <td>50.80000</td>\n",
       "      <td>19.0</td>\n",
       "      <td>210.000000</td>\n",
       "      <td>4100.0</td>\n",
       "      <td>male</td>\n",
       "      <td>2009</td>\n",
       "    </tr>\n",
       "    <tr>\n",
       "      <th>343</th>\n",
       "      <td>Chinstrap</td>\n",
       "      <td>Dream</td>\n",
       "      <td>50.20000</td>\n",
       "      <td>18.7</td>\n",
       "      <td>198.000000</td>\n",
       "      <td>3775.0</td>\n",
       "      <td>female</td>\n",
       "      <td>2009</td>\n",
       "    </tr>\n",
       "  </tbody>\n",
       "</table>\n",
       "<p>344 rows × 8 columns</p>\n",
       "</div>"
      ],
      "text/plain": [
       "       species     island  bill_length_mm  bill_depth_mm  flipper_length_mm  \\\n",
       "0       Adelie  Torgersen        39.10000           18.7         181.000000   \n",
       "1       Adelie  Torgersen        39.50000           17.4         186.000000   \n",
       "2       Adelie  Torgersen        40.30000           18.0         195.000000   \n",
       "3       Adelie  Torgersen        43.92193            NaN         200.915205   \n",
       "4       Adelie  Torgersen        36.70000           19.3         193.000000   \n",
       "..         ...        ...             ...            ...                ...   \n",
       "339  Chinstrap      Dream        55.80000           19.8         207.000000   \n",
       "340  Chinstrap      Dream        43.50000           18.1         202.000000   \n",
       "341  Chinstrap      Dream        49.60000           18.2         193.000000   \n",
       "342  Chinstrap      Dream        50.80000           19.0         210.000000   \n",
       "343  Chinstrap      Dream        50.20000           18.7         198.000000   \n",
       "\n",
       "     body_mass_g     sex  year  \n",
       "0         3750.0    male  2007  \n",
       "1         3800.0  female  2007  \n",
       "2         3250.0  female  2007  \n",
       "3            NaN    male  2007  \n",
       "4         3450.0  female  2007  \n",
       "..           ...     ...   ...  \n",
       "339       4000.0    male  2009  \n",
       "340       3400.0  female  2009  \n",
       "341       3775.0    male  2009  \n",
       "342       4100.0    male  2009  \n",
       "343       3775.0  female  2009  \n",
       "\n",
       "[344 rows x 8 columns]"
      ]
     },
     "execution_count": 48,
     "metadata": {},
     "output_type": "execute_result"
    }
   ],
   "source": [
    "penguin"
   ]
  },
  {
   "cell_type": "markdown",
   "id": "2d2c89bc-9678-4f78-8684-3a9c715010ff",
   "metadata": {},
   "source": [
    "<h4>ACCORDING FROM THE GIVEN DATA ABOVE, IT SHOW THAT THE BILL LENGTH OF THE FIRST ADELIE PENGUIN THAT LISTED FROM THE DATASET IS 39.10000</h4><hr>"
   ]
  },
  {
   "cell_type": "markdown",
   "id": "2db3e2cc-add0-4e34-83ad-4e2fb0ebb2c4",
   "metadata": {},
   "source": [
    "<h3>4. Are there any missing values for the bill length?</h3><hr>"
   ]
  },
  {
   "cell_type": "code",
   "execution_count": 49,
   "id": "b948d278-5f9f-4be4-98b1-0ea15595add8",
   "metadata": {},
   "outputs": [
    {
     "data": {
      "text/plain": [
       "np.int64(0)"
      ]
     },
     "execution_count": 49,
     "metadata": {},
     "output_type": "execute_result"
    }
   ],
   "source": [
    "penguin['bill_length_mm'].isnull().sum()"
   ]
  },
  {
   "cell_type": "markdown",
   "id": "e815cb85-6b49-4120-a225-89c09822b5e2",
   "metadata": {},
   "source": [
    "<h4>INSIGHT: ACCORDING FROM THE GIVEN DATA ABOVE, IT SHOWS THAT THERE ARE NO ANY MISSING VALUE FOR THE BILL LENGTH OF EACH SPECIES</h4><hr>"
   ]
  },
  {
   "cell_type": "markdown",
   "id": "cbe9c132-b447-45f0-838c-120c81c91625",
   "metadata": {},
   "source": [
    "<h3>5. For the Adelie species, what is the average body mass of male penguins compared to female penguins?</h3><hr>"
   ]
  },
  {
   "cell_type": "code",
   "execution_count": 50,
   "id": "b67e5e33-27fe-4d35-9a5f-070ed01adca9",
   "metadata": {},
   "outputs": [
    {
     "name": "stdout",
     "output_type": "stream",
     "text": [
      "<class 'pandas.core.frame.DataFrame'>\n",
      "RangeIndex: 344 entries, 0 to 343\n",
      "Data columns (total 8 columns):\n",
      " #   Column             Non-Null Count  Dtype   \n",
      "---  ------             --------------  -----   \n",
      " 0   species            344 non-null    category\n",
      " 1   island             344 non-null    object  \n",
      " 2   bill_length_mm     344 non-null    float64 \n",
      " 3   bill_depth_mm      342 non-null    float64 \n",
      " 4   flipper_length_mm  344 non-null    float64 \n",
      " 5   body_mass_g        342 non-null    float64 \n",
      " 6   sex                344 non-null    object  \n",
      " 7   year               344 non-null    category\n",
      "dtypes: category(2), float64(4), object(2)\n",
      "memory usage: 17.2+ KB\n"
     ]
    }
   ],
   "source": [
    "penguin.info()"
   ]
  },
  {
   "cell_type": "code",
   "execution_count": 51,
   "id": "f1d3ac70-33af-45ec-97ea-b9cea416ce82",
   "metadata": {},
   "outputs": [],
   "source": [
    "adelie_df = penguin[penguin['species'] == 'Adelie']"
   ]
  },
  {
   "cell_type": "code",
   "execution_count": 52,
   "id": "3949a600-7c06-4510-9e1b-809ba1fa206f",
   "metadata": {},
   "outputs": [],
   "source": [
    "male_mass = adelie_df[adelie_df['sex'] == 'male']['body_mass_g'].mean()"
   ]
  },
  {
   "cell_type": "code",
   "execution_count": 53,
   "id": "1365beca-dad6-4e83-9ed1-c23f8a14f32f",
   "metadata": {},
   "outputs": [],
   "source": [
    "female_mass = adelie_df[adelie_df['sex'] == 'female']['body_mass_g'].mean()"
   ]
  },
  {
   "cell_type": "code",
   "execution_count": 54,
   "id": "045b1b07-3b62-471a-9191-d4aac2f38b1a",
   "metadata": {},
   "outputs": [
    {
     "data": {
      "text/plain": [
       "(np.float64(4011.2179487179487), np.float64(3368.8356164383563))"
      ]
     },
     "execution_count": 54,
     "metadata": {},
     "output_type": "execute_result"
    }
   ],
   "source": [
    "male_mass, female_mass"
   ]
  },
  {
   "cell_type": "markdown",
   "id": "15b5b0fa-b9e7-4409-9f49-470bca80c138",
   "metadata": {},
   "source": [
    "<h4>INSIGHT: BASED FROM THE GIVEN DATA ABOVE, IT SHOWS THAT THE AVERAGE BODY MASS OF MALE PENGUINS ARE 4011.2179487179487 WHILE FEMALE\n",
    "PENGUINS ARE 3368.8356164383563 THAT COVERS ONLY ON THE ADELIE ISLAND.</h4><hr>"
   ]
  },
  {
   "cell_type": "markdown",
   "id": "94d142da-db7d-4f6a-8fe4-cf8875ecfba1",
   "metadata": {},
   "source": [
    "<h3>6. Which island has the highest number of observed penguins?</h3><hr>"
   ]
  },
  {
   "cell_type": "code",
   "execution_count": 55,
   "id": "0f3099d8-8d9f-48bf-9bb1-8f335dcc4ce7",
   "metadata": {},
   "outputs": [
    {
     "data": {
      "text/plain": [
       "island\n",
       "Biscoe       168\n",
       "Dream        124\n",
       "Torgersen     52\n",
       "Name: count, dtype: int64"
      ]
     },
     "execution_count": 55,
     "metadata": {},
     "output_type": "execute_result"
    }
   ],
   "source": [
    "penguin['island'].value_counts()"
   ]
  },
  {
   "cell_type": "markdown",
   "id": "5dd0d870-51fd-4da3-92db-be2fcbf24fad",
   "metadata": {},
   "source": [
    "<h4>INSIGHT: BASED FROM THE GIVEN DATA ABOVE, IT SHOWS THAT THE HIGHEST NUMBER OF OBSERVED PENGUINS WHERE AT THE BISCOE ISLAND </h4><hr>"
   ]
  },
  {
   "cell_type": "markdown",
   "id": "feebcfdd-45ed-483a-86cd-7a724b131587",
   "metadata": {},
   "source": [
    "<h3>7. Which species of penguin generally has the longest flippers?</h3><hr>"
   ]
  },
  {
   "cell_type": "code",
   "execution_count": 56,
   "id": "7caf3669-2ddb-48b2-9c0e-2a92cf82e21c",
   "metadata": {},
   "outputs": [
    {
     "data": {
      "text/plain": [
       "species\n",
       "Adelie       190.025758\n",
       "Chinstrap    195.823529\n",
       "Gentoo       217.055768\n",
       "Name: flipper_length_mm, dtype: float64"
      ]
     },
     "execution_count": 56,
     "metadata": {},
     "output_type": "execute_result"
    }
   ],
   "source": [
    "penguin.groupby('species')['flipper_length_mm'].mean()"
   ]
  },
  {
   "cell_type": "markdown",
   "id": "957c1963-718f-4b91-ba71-3b236fcc75e1",
   "metadata": {},
   "source": [
    "<h4>INSIGHT: BASED FROM THE GIVEN DATA ABOVE, IT INDICATE THAT THE LONGEST FLIPPERS AMONGST THEM IS FROM THE GENTOO ISLAND THAT HAS AN 217.186992 </h4><hr>"
   ]
  },
  {
   "cell_type": "markdown",
   "id": "e1b06d4c-03e1-4539-aa28-5735da4cdd0e",
   "metadata": {},
   "source": [
    "<h3>8. What is the average flipper length of penguins observed on Torgersen Island compared to Biscoe Islands?</h3><hr>"
   ]
  },
  {
   "cell_type": "code",
   "execution_count": 57,
   "id": "8b4771e5-f20f-4211-829f-f54dcd418f7c",
   "metadata": {},
   "outputs": [],
   "source": [
    "torgersen_avg = penguin[penguin['island'] == 'Torgersen']['flipper_length_mm'].mean()"
   ]
  },
  {
   "cell_type": "code",
   "execution_count": 58,
   "id": "34228b84-1cb9-4afb-970e-a0336be3cf96",
   "metadata": {},
   "outputs": [],
   "source": [
    "biscoe_avg = penguin[penguin['island'] == 'Biscoe']['flipper_length_mm'].mean()"
   ]
  },
  {
   "cell_type": "code",
   "execution_count": 59,
   "id": "bce20446-c136-4f8a-8d3b-f7dbd8e68f22",
   "metadata": {},
   "outputs": [
    {
     "data": {
      "text/plain": [
       "(np.float64(191.38298470535312), np.float64(209.65425717070454))"
      ]
     },
     "execution_count": 59,
     "metadata": {},
     "output_type": "execute_result"
    }
   ],
   "source": [
    "torgersen_avg, biscoe_avg"
   ]
  },
  {
   "cell_type": "markdown",
   "id": "0b600569-4d6e-4136-acb0-f2ce706c069b",
   "metadata": {},
   "source": [
    "<h4>INSIGHT: BASED FROM THE GIVEN DATA ABOVE, IT SHOWS THAT THE AVERAGE FLIPPER LENGTH OF PENGUINS OBSERVED ON TORGENSEN ISLAND ARE 191.19607843137254\n",
    "COMPARED TO BISCOE ISLANDS ARE 209.70658682634732 </h4><hr>"
   ]
  },
  {
   "cell_type": "markdown",
   "id": "50bcba35-627a-45aa-abc2-366a2c2d4af8",
   "metadata": {},
   "source": [
    "<h3>9. What is the bill depth of the last Chinstrap penguin listed?</h3><hr>"
   ]
  },
  {
   "cell_type": "code",
   "execution_count": 60,
   "id": "54b2edc5-4077-4225-8970-b58f1e737190",
   "metadata": {},
   "outputs": [],
   "source": [
    "chinstrap_penguins = penguin[penguin['species'] == 'Chinstrap']"
   ]
  },
  {
   "cell_type": "code",
   "execution_count": 61,
   "id": "038d2550-9cd1-42d7-92bf-f5d148a45c61",
   "metadata": {},
   "outputs": [
    {
     "data": {
      "text/plain": [
       "np.float64(18.7)"
      ]
     },
     "execution_count": 61,
     "metadata": {},
     "output_type": "execute_result"
    }
   ],
   "source": [
    "chinstrap_penguins.iloc[-1]['bill_depth_mm']"
   ]
  },
  {
   "cell_type": "markdown",
   "id": "a3684267-c000-4806-8e13-561460da3e33",
   "metadata": {},
   "source": [
    "<h4>INSIGHT: ACCORDING FROM THE GIVEN DATA ABOVE, IT SHOWS THAT THE BILL LENGTH OF THE LAST CHINSTRAP THAT WERE LISTED FROM THE DATA ARE 18.7</h4><hr>"
   ]
  },
  {
   "cell_type": "markdown",
   "id": "53985454-01c9-4014-9c4f-aad5f92c2b9e",
   "metadata": {},
   "source": [
    "<h3> 10. Are there any missing values for flipper length?</h3><hr>"
   ]
  },
  {
   "cell_type": "code",
   "execution_count": 62,
   "id": "7086bb0e-867e-475c-8d1b-5c59a9468bde",
   "metadata": {},
   "outputs": [
    {
     "data": {
      "text/plain": [
       "np.int64(0)"
      ]
     },
     "execution_count": 62,
     "metadata": {},
     "output_type": "execute_result"
    }
   ],
   "source": [
    "penguin['flipper_length_mm'].isnull().sum()"
   ]
  },
  {
   "cell_type": "markdown",
   "id": "9e928553-0c9d-4a00-80d4-4d6c207ec259",
   "metadata": {},
   "source": [
    "<h4>INSIGHT: BASED FROM THE GIVEN DATA ABOVE, IT SHOWS THAT THERE ARE 2 MISSING VALUES FOR FLIPPER LENGTH </h4><hr>"
   ]
  },
  {
   "cell_type": "markdown",
   "id": "02a1883d-e8e8-4e5c-9a3d-c8e2165cb92f",
   "metadata": {},
   "source": [
    "<h3>11. Are there any missing for body mass?</h3><hr>"
   ]
  },
  {
   "cell_type": "code",
   "execution_count": 63,
   "id": "602fed39-db37-496d-9f91-2b6c2df1cdc7",
   "metadata": {},
   "outputs": [
    {
     "data": {
      "text/plain": [
       "np.int64(0)"
      ]
     },
     "execution_count": 63,
     "metadata": {},
     "output_type": "execute_result"
    }
   ],
   "source": [
    "penguin['flipper_length_mm'].isnull().sum()"
   ]
  },
  {
   "cell_type": "markdown",
   "id": "f330085c-0492-4f77-9dc4-77517b38273d",
   "metadata": {},
   "source": [
    "<h4>INSIGHT: ACCORDING FROM THE GIVEN DATA ABOVE, IT SHOWS THAT THERE ARE 2 MISSING FOR BODY MASS FROM THE DATASET</h4><hr>"
   ]
  },
  {
   "cell_type": "markdown",
   "id": "3bb3708d-2aca-47c2-b6fe-bf5a106a7139",
   "metadata": {},
   "source": [
    "<h3>12.How many records are there for each penguin species?</h3><hr>"
   ]
  },
  {
   "cell_type": "code",
   "execution_count": 64,
   "id": "416f39f5-9e95-4afb-886b-f0a1368f357a",
   "metadata": {},
   "outputs": [
    {
     "data": {
      "text/plain": [
       "species\n",
       "Adelie       152\n",
       "Gentoo       124\n",
       "Chinstrap     68\n",
       "Name: count, dtype: int64"
      ]
     },
     "execution_count": 64,
     "metadata": {},
     "output_type": "execute_result"
    }
   ],
   "source": [
    "penguin['species'].value_counts()"
   ]
  },
  {
   "cell_type": "markdown",
   "id": "7b3ef226-fab3-485e-978b-7dbc47ead7f1",
   "metadata": {},
   "source": [
    "<h4>INSIGHT: ACCORDING FROM THE GIVEN DATA ABOVE, IT INDICATE THE ADELIE HAS THE MOST FREQUENTLY OBSERVED, FOLLOWED BY GENTOO, WHILE CHINSTRAP \n",
    "HAS THE LEAST NUMBER OF OBSERVED SPECIES.</h4><hr>"
   ]
  },
  {
   "cell_type": "markdown",
   "id": "1dd653a6-06c8-4866-a123-8a14244cc849",
   "metadata": {},
   "source": [
    "<h3>13. What is the body mass of the last Chinstrap penguin listed from Dream island in 2009?</h3><hr>"
   ]
  },
  {
   "cell_type": "code",
   "execution_count": 65,
   "id": "b5006b35-e343-41db-b7b1-108b5c761a1b",
   "metadata": {},
   "outputs": [],
   "source": [
    "chinstrap_dream_2009 = penguin[\n",
    "    (penguin['species'] == 'Chinstrap') &\n",
    "    (penguin['island'] == 'Dream') &\n",
    "    (penguin['year'] == 2009)\n",
    "]"
   ]
  },
  {
   "cell_type": "code",
   "execution_count": 66,
   "id": "da55fd73-0fd3-4375-b73a-c32a95f23e8f",
   "metadata": {},
   "outputs": [
    {
     "data": {
      "text/plain": [
       "np.float64(3775.0)"
      ]
     },
     "execution_count": 66,
     "metadata": {},
     "output_type": "execute_result"
    }
   ],
   "source": [
    "chinstrap_dream_2009.iloc[-1]['body_mass_g']"
   ]
  },
  {
   "cell_type": "markdown",
   "id": "61adb7ae-0db2-4250-998b-22eb3472c01f",
   "metadata": {},
   "source": [
    "<h4>INSIGHT: BASED FROM THE GIVEN DATA ABOVE, IT SHOWS THAT THE BODY MASS OF THE LAST CHINSTRAP PENGUIN THAT LISTED FROM DREAM ISLAND IN 2009 IS 3775.0  </h4><hr>"
   ]
  },
  {
   "cell_type": "markdown",
   "id": "208a5f40-6bb3-4e02-b84a-da9beb68e2da",
   "metadata": {},
   "source": [
    "<h1>DATA AGGREGATION</h1>"
   ]
  },
  {
   "cell_type": "code",
   "execution_count": 67,
   "id": "0f7858f4-77fd-43d9-8de0-c22b2ac485e2",
   "metadata": {},
   "outputs": [],
   "source": [
    "#species, island, sex\n",
    "\n",
    "sp_is_x = penguin.groupby(['species', 'island', 'sex']).size()"
   ]
  },
  {
   "cell_type": "code",
   "execution_count": 68,
   "id": "663234ff-69c4-459f-a5e6-6349cf794f88",
   "metadata": {},
   "outputs": [
    {
     "data": {
      "text/plain": [
       "species    island     sex   \n",
       "Adelie     Biscoe     female    22\n",
       "                      male      22\n",
       "           Dream      female    27\n",
       "                      male      29\n",
       "           Torgersen  female    24\n",
       "                      male      28\n",
       "Chinstrap  Biscoe     female     0\n",
       "                      male       0\n",
       "           Dream      female    34\n",
       "                      male      34\n",
       "           Torgersen  female     0\n",
       "                      male       0\n",
       "Gentoo     Biscoe     female    58\n",
       "                      male      66\n",
       "           Dream      female     0\n",
       "                      male       0\n",
       "           Torgersen  female     0\n",
       "                      male       0\n",
       "dtype: int64"
      ]
     },
     "execution_count": 68,
     "metadata": {},
     "output_type": "execute_result"
    }
   ],
   "source": [
    "sp_is_x "
   ]
  },
  {
   "cell_type": "markdown",
   "id": "c04472ca-a649-4f3a-9f89-e32d715053a8",
   "metadata": {},
   "source": [
    "<h1>DETERMINING CORRELATION USING PANDAS PEARSON R</h1>\n",
    "<hr>\n",
    "<h3>Is there a correlation between body mass and flipper?</h3>"
   ]
  },
  {
   "cell_type": "code",
   "execution_count": 69,
   "id": "de3eb1f4-e076-48f6-9d7b-fec5b41199af",
   "metadata": {},
   "outputs": [],
   "source": [
    "mass_flip_cor = penguin ['flipper_length_mm'].corr(penguin['body_mass_g'])"
   ]
  },
  {
   "cell_type": "code",
   "execution_count": 70,
   "id": "616bc19e-2eae-4dee-aa1a-9ba6c79f3801",
   "metadata": {},
   "outputs": [
    {
     "data": {
      "text/plain": [
       "np.float64(0.8712017673060113)"
      ]
     },
     "execution_count": 70,
     "metadata": {},
     "output_type": "execute_result"
    }
   ],
   "source": [
    "mass_flip_cor"
   ]
  },
  {
   "cell_type": "markdown",
   "id": "5f5eb62a-621b-4f63-a84f-5e4e6c403f2c",
   "metadata": {},
   "source": [
    "<h1>Categorical to Numerical Correlation</h1>\n",
    "<h2>Using One Way Anova</h2>\n",
    "<h>Library : Scientific Python ( SCIPY )</h2>"
   ]
  },
  {
   "cell_type": "code",
   "execution_count": 71,
   "id": "c45bcbb2-d5fc-4280-88ac-8720d1580321",
   "metadata": {},
   "outputs": [
    {
     "name": "stdout",
     "output_type": "stream",
     "text": [
      "Requirement already satisfied: scipy in c:\\users\\user\\appdata\\local\\programs\\python\\python313\\lib\\site-packages (1.16.1)\n",
      "Requirement already satisfied: numpy<2.6,>=1.25.2 in c:\\users\\user\\appdata\\local\\programs\\python\\python313\\lib\\site-packages (from scipy) (2.3.2)\n",
      "Note: you may need to restart the kernel to use updated packages.\n"
     ]
    }
   ],
   "source": [
    "pip install scipy"
   ]
  },
  {
   "cell_type": "code",
   "execution_count": 72,
   "id": "4539400b-e897-4b87-9fca-b279b527a002",
   "metadata": {},
   "outputs": [],
   "source": [
    "from scipy.stats import f_oneway"
   ]
  },
  {
   "cell_type": "code",
   "execution_count": 73,
   "id": "90e56966-68dd-490a-aca9-c382b9a203c5",
   "metadata": {},
   "outputs": [],
   "source": [
    "male_df = penguin[penguin['sex'] == 'male']"
   ]
  },
  {
   "cell_type": "code",
   "execution_count": 74,
   "id": "e307e540-505b-437c-8679-6274559fb1ce",
   "metadata": {},
   "outputs": [
    {
     "data": {
      "text/plain": [
       "0      3750.0\n",
       "3         NaN\n",
       "5      3650.0\n",
       "7      4675.0\n",
       "8      3475.0\n",
       "        ...  \n",
       "334    3800.0\n",
       "336    3950.0\n",
       "339    4000.0\n",
       "341    3775.0\n",
       "342    4100.0\n",
       "Name: body_mass_g, Length: 179, dtype: float64"
      ]
     },
     "execution_count": 74,
     "metadata": {},
     "output_type": "execute_result"
    }
   ],
   "source": [
    "male_df['body_mass_g']"
   ]
  },
  {
   "cell_type": "code",
   "execution_count": 75,
   "id": "08c242b9-b376-4419-82a1-88ee0abe2c19",
   "metadata": {},
   "outputs": [
    {
     "data": {
      "text/plain": [
       "0      3750.0\n",
       "3         NaN\n",
       "5      3650.0\n",
       "7      4675.0\n",
       "8      3475.0\n",
       "        ...  \n",
       "334    3800.0\n",
       "336    3950.0\n",
       "339    4000.0\n",
       "341    3775.0\n",
       "342    4100.0\n",
       "Name: body_mass_g, Length: 179, dtype: float64"
      ]
     },
     "execution_count": 75,
     "metadata": {},
     "output_type": "execute_result"
    }
   ],
   "source": [
    "penguin[penguin['sex'] == 'male'] ['body_mass_g']"
   ]
  },
  {
   "cell_type": "code",
   "execution_count": 76,
   "id": "fcb3813c-1d1b-4572-b2dc-0b49409d5f3e",
   "metadata": {},
   "outputs": [
    {
     "data": {
      "text/plain": [
       "0      3750.0\n",
       "1      3800.0\n",
       "2      3250.0\n",
       "3         NaN\n",
       "4      3450.0\n",
       "        ...  \n",
       "147    3475.0\n",
       "148    3450.0\n",
       "149    3750.0\n",
       "150    3700.0\n",
       "151    4000.0\n",
       "Name: body_mass_g, Length: 152, dtype: float64"
      ]
     },
     "execution_count": 76,
     "metadata": {},
     "output_type": "execute_result"
    }
   ],
   "source": [
    "penguin[penguin['species'] == 'Adelie'] ['body_mass_g']"
   ]
  },
  {
   "cell_type": "code",
   "execution_count": 77,
   "id": "35c6852e-12d7-4b1a-99fa-ad49b7dd1952",
   "metadata": {},
   "outputs": [
    {
     "data": {
      "text/plain": [
       "152    4500.0\n",
       "153    5700.0\n",
       "154    4450.0\n",
       "155    5700.0\n",
       "156    5400.0\n",
       "        ...  \n",
       "271       NaN\n",
       "272    4850.0\n",
       "273    5750.0\n",
       "274    5200.0\n",
       "275    5400.0\n",
       "Name: body_mass_g, Length: 124, dtype: float64"
      ]
     },
     "execution_count": 77,
     "metadata": {},
     "output_type": "execute_result"
    }
   ],
   "source": [
    "penguin[penguin['species'] == 'Gentoo'] ['body_mass_g']"
   ]
  },
  {
   "cell_type": "code",
   "execution_count": 78,
   "id": "33c4c4c0-f48e-42cd-8fb1-5edec4e83a4c",
   "metadata": {},
   "outputs": [
    {
     "data": {
      "text/plain": [
       "276    3500.0\n",
       "277    3900.0\n",
       "278    3650.0\n",
       "279    3525.0\n",
       "280    3725.0\n",
       "        ...  \n",
       "339    4000.0\n",
       "340    3400.0\n",
       "341    3775.0\n",
       "342    4100.0\n",
       "343    3775.0\n",
       "Name: body_mass_g, Length: 68, dtype: float64"
      ]
     },
     "execution_count": 78,
     "metadata": {},
     "output_type": "execute_result"
    }
   ],
   "source": [
    "penguin[penguin['species'] == 'Chinstrap'] ['body_mass_g']"
   ]
  },
  {
   "cell_type": "code",
   "execution_count": 79,
   "id": "705de573-f64e-4ea3-bb87-da3b96b9f094",
   "metadata": {},
   "outputs": [
    {
     "data": {
      "text/plain": [
       "F_onewayResult(statistic=np.float64(nan), pvalue=np.float64(nan))"
      ]
     },
     "execution_count": 79,
     "metadata": {},
     "output_type": "execute_result"
    }
   ],
   "source": [
    "f_oneway(penguin[penguin['species'] == 'Adelie'] ['body_mass_g'], penguin[penguin['species'] == 'Gentoo'] ['body_mass_g'], \n",
    "penguin[penguin['species'] == 'Chinstrap'] ['body_mass_g'])"
   ]
  }
 ],
 "metadata": {
  "kernelspec": {
   "display_name": "Python 3 (ipykernel)",
   "language": "python",
   "name": "python3"
  },
  "language_info": {
   "codemirror_mode": {
    "name": "ipython",
    "version": 3
   },
   "file_extension": ".py",
   "mimetype": "text/x-python",
   "name": "python",
   "nbconvert_exporter": "python",
   "pygments_lexer": "ipython3",
   "version": "3.13.6"
  }
 },
 "nbformat": 4,
 "nbformat_minor": 5
}
